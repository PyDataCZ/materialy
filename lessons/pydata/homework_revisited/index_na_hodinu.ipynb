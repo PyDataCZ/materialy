{
 "cells": [
  {
   "cell_type": "markdown",
   "metadata": {},
   "source": [
    "# Implementace domácího úkolu - rybí regrese "
   ]
  },
  {
   "cell_type": "code",
   "execution_count": null,
   "metadata": {},
   "outputs": [],
   "source": [
    "import pandas as pd\n",
    "import numpy as np\n",
    "\n",
    "np.random.seed(42)"
   ]
  },
  {
   "cell_type": "code",
   "execution_count": null,
   "metadata": {},
   "outputs": [],
   "source": [
    "import warnings\n",
    "from sklearn.exceptions import ConvergenceWarning\n",
    "warnings.filterwarnings(\"ignore\", category=ConvergenceWarning)"
   ]
  },
  {
   "cell_type": "markdown",
   "metadata": {},
   "source": [
    "**ÚKOL 1**: Načtěte data, vyhoďte přebytečné sloupce, vyberte vstupy a výstupy a připravte rozdělení na trénovací a testovací množinu.\n"
   ]
  },
  {
   "cell_type": "markdown",
   "metadata": {},
   "source": [
    "- Načtěte si data pomocí pandas, vyberte požadované sloupce, které budete používat. \n"
   ]
  },
  {
   "cell_type": "code",
   "execution_count": null,
   "metadata": {},
   "outputs": [],
   "source": [
    "fish_data = pd.read_csv(\"fish_data.csv\", index_col=0)\n",
    "# fish_data = fish_data.drop(columns=[___])\n",
    "fish_data"
   ]
  },
  {
   "cell_type": "markdown",
   "metadata": {},
   "source": [
    "- Zvol si sloupec, který budeš používat jako odezvu (**Weight**). Do proměnné **X** ulož sloupce, které budeš používat jako příznaky, do proměnné **y** sloupec s odezvou.\n",
    "\n",
    "*V teorii strojového učení se vstupy modelu (příznaky, vstupní proměnné) typicky označují písmenem X a výstupy písmenem y. Takto se často označují i proměnné v kódu. X představuje matici (neboli tabulku), kde každý řádek odpovídá jednomu datovému vzorku a každý sloupec jednomu příznaku (vstupní proměnné). y je vektor, neboli jeden sloupec s odezvou.*"
   ]
  },
  {
   "cell_type": "code",
   "execution_count": null,
   "metadata": {},
   "outputs": [],
   "source": [
    "y = fish_data[\"Weight\"]\n",
    "X = fish_data.drop(columns=[\"Weight\"])"
   ]
  },
  {
   "cell_type": "markdown",
   "metadata": {},
   "source": [
    "- Rozděl data na trénovací a testovací. Všimni si, že máme v datech různé druhy ryb, na co si dát pozor? \n",
    "\n",
    "*Metoda  [train_test_split](https://scikit-learn.org/stable/modules/generated/sklearn.model_selection.train_test_split.html?highlight=train%20test%20split#sklearn.model_selection.train_test_split)  nám data rozdělí náhodně na trénovací a testovací sadu. Velikost testovací množiny můžeme specifikovat parametrem test_size, jeho přednastavená (default) hodnota je 0.25, t. j. 25%.*"
   ]
  },
  {
   "cell_type": "code",
   "execution_count": null,
   "metadata": {},
   "outputs": [],
   "source": [
    "from sklearn.model_selection import train_test_split \n",
    "\n",
    "X_train_raw, X_test_raw, y_train, y_test = ..."
   ]
  },
  {
   "cell_type": "markdown",
   "metadata": {},
   "source": [
    "**ÚKOL 2**: Překódujte kategorické proměnné a přeškálujte všechny sloupce."
   ]
  },
  {
   "cell_type": "markdown",
   "metadata": {},
   "source": [
    "+ Překóduj potřebné sloupce pomocí OneHotEncoding. "
   ]
  },
  {
   "cell_type": "code",
   "execution_count": null,
   "metadata": {},
   "outputs": [],
   "source": [
    "from sklearn.preprocessing import OneHotEncoder\n",
    "from sklearn.compose import make_column_transformer\n",
    "\n",
    "categorical_columns = ___ \n",
    "\n",
    "transformer = make_column_transformer(\n",
    "    (_______, _____),\n",
    "    remainder=\"passthrough\"\n",
    ")\n",
    "\n",
    "X_train_onehot = transformer._______(X_train_raw)\n",
    "X_test_onehot = transformer.________(X_test_raw)\n",
    "\n",
    "pd.DataFrame(X_train_onehot, columns=transformer.get_feature_names_out())"
   ]
  },
  {
   "cell_type": "markdown",
   "metadata": {},
   "source": [
    "+ Přeškáluj sloupce pomocí StandardScaler."
   ]
  },
  {
   "cell_type": "code",
   "execution_count": null,
   "metadata": {},
   "outputs": [],
   "source": [
    "from sklearn.preprocessing import StandardScaler\n",
    "\n",
    "scaler = ______\n",
    "scaler._____(_____)\n",
    "\n",
    "X_train = scaler.transform(X_train_onehot)\n",
    "X_test = scaler.transform(X_test_onehot)"
   ]
  },
  {
   "cell_type": "markdown",
   "metadata": {},
   "source": [
    "- Vyber si několik regresních modelů a zkus je použít. \n",
    "\n",
    "Pro dnešek možno zkusit:\n",
    "\n",
    "  - [LinearRegression](https://scikit-learn.org/stable/modules/generated/sklearn.linear_model.LinearRegression.html) \n",
    " \n",
    "  - [Lasso](https://scikit-learn.org/stable/modules/generated/sklearn.linear_model.Lasso.html#sklearn.linear_model.Lasso)\n",
    "      + hyperparametry: \n",
    "          * alpha, float, default=1.0 \n",
    " \n",
    "- [SVR](https://scikit-learn.org/stable/modules/generated/sklearn.svm.SVR.html#sklearn.svm.SVR)        \n",
    "     + hyperparametry:\n",
    "          * kernel, default rbf, one of ‘linear’, ‘poly’, ‘rbf’, ‘sigmoid’\n",
    "          * C, float, optional (default=1.0)"
   ]
  },
  {
   "cell_type": "code",
   "execution_count": null,
   "metadata": {},
   "outputs": [],
   "source": []
  },
  {
   "cell_type": "markdown",
   "metadata": {},
   "source": [
    "# Odbočka: co jsou to ty *hyper-parametry*? \n",
    "\n",
    "U příkladů s černými krabičkami v první hodině jsme si (za vašimi zády) několikrát trochu pomohli a \n",
    "krabičce jsme předali na začátku nějaké parametry. Krabička totiž často umožňuje uživateli, aby si ji nakonfiguroval. V terminologii krabiček si můžeme představit, že krabička má na sobě různé páčky, kterými se dá seřídit. Těmito páčkami se nastavují tzv. **hyper-parametry** modelu. Všechny modely, které najdeš v knihovně Scikit-learn, mají nějaké výchozí nastavení a půjdou použít i bez toho, aby ses nastavením těchto hyper-parametrů zabývala.\n",
    "V případě, že model nedává uspokojivý výsledek, můžeš zkusit tyto parametry upravit, např. vyzkoušet několik různých nastavení a porovnat hodnotu metriky na testovací množině.\n",
    "\n",
    "U seznamu výše máme některé hyperparametry uvedené. Parametry často souvisejí s regularizací (výše *alpha*, *C*). **Regularizace** znamená, že model kromě toho, že se snaží nafitovat tak, aby odpovídal datům (dával správné odpovědi), zohledňuje nějaké další kriterium. Typicky toto kritérium hlídá, aby výstup modelu moc neosciloval, apod. Podobně jako jsi v příkladu s krajinou říkala, že řešení volíš tak, aby bylo *plynulé*, *hezké*, *odpovídalo obvyklým* krajinám. \n",
    "\n",
    "Proces výběru modelu včetně jeho parametrů se nazývá **model selection**, v knihovně Scikit-learn najdeš nástroje, které ti mohou pomoci, pod heslem [Model selection](https://scikit-learn.org/stable/model_selection.html)."
   ]
  },
  {
   "cell_type": "code",
   "execution_count": null,
   "metadata": {},
   "outputs": [],
   "source": [
    "from sklearn.linear_model import LinearRegression, Lasso\n",
    "from sklearn.svm import SVR"
   ]
  },
  {
   "cell_type": "code",
   "execution_count": null,
   "metadata": {},
   "outputs": [],
   "source": [
    "model_zoo = {\n",
    "    \"linear_regression\": LinearRegression(),\n",
    "    \"lasso_var1\": Lasso(alpha=1.0),\n",
    "    \"lasso_var2\": Lasso(alpha=1e-03),\n",
    "    \"SVR_rbf\": SVR(kernel=\"rbf\", C=1e04),\n",
    "    \"SVR_poly\": SVR(kernel=\"poly\",C=1e04),\n",
    "}"
   ]
  },
  {
   "cell_type": "markdown",
   "metadata": {},
   "source": [
    "+ K trénovaní (fitování) slouží metoda `fit`, k predikci pro nové vzory metoda `predict`. \n",
    "```\n",
    "  model.fit(X_train, y_train)\n",
    "  pred = model.predict(X_test)\n",
    "```\n",
    "\n",
    "+ Metriku nemusíš programovat, k dispozici máš `mean_absolute_error`, `mean_squared_error` a `r2_score`.\n",
    "```\n",
    "  metrika = mean_absolute_error(y_test, pred)\n",
    "```  "
   ]
  },
  {
   "cell_type": "markdown",
   "metadata": {},
   "source": [
    "**ÚKOL 3**: Dopište funkci `fit_and_eval` dle instrukcí."
   ]
  },
  {
   "cell_type": "code",
   "execution_count": null,
   "metadata": {},
   "outputs": [],
   "source": [
    "from sklearn.metrics import mean_absolute_error, mean_squared_error, r2_score\n",
    "\n",
    "def fit_and_eval(X_train, y_train, X_test, y_test, model, name):\n",
    "    \"\"\" 1. Natrénuje model na trénovací množině.\n",
    "        2. Spočte hodnoty metrik na trénovací i testovací množině.\n",
    "        vrátí slovník ve tvaru {\"název metriky\": hodnota} \n",
    "    \"\"\" \n",
    "    # zde dopiš kód\n",
    "    ... \n",
    "    return {\n",
    "        \"MSE_test\": ____,\n",
    "        \"MSE_train\": ____\n",
    "    }"
   ]
  },
  {
   "cell_type": "code",
   "execution_count": null,
   "metadata": {},
   "outputs": [],
   "source": [
    "results = []\n",
    "for name, model in model_zoo.items(): \n",
    "    result = fit_and_eval(X_train, y_train, X_test, y_test, model, name)\n",
    "    result[\"model\"] = name\n",
    "    results.append(result)\n",
    "    \n",
    "pd.DataFrame(results)"
   ]
  },
  {
   "cell_type": "markdown",
   "metadata": {},
   "source": [
    "Naučili jsme několik modelů. Zamysli se teď na chvilku, který by sis vybrala a proč. \n",
    "Označme si jej jako `best_model`.  Můžeš si i zkusit pohrát s hyperparametry a zvolit jiné nastavení."
   ]
  },
  {
   "cell_type": "code",
   "execution_count": null,
   "metadata": {},
   "outputs": [],
   "source": [
    "# doplň jméno modelu, který jsi vybrala\n",
    "\n",
    "best_model = model_zoo[____]"
   ]
  },
  {
   "cell_type": "markdown",
   "metadata": {},
   "source": [
    "# A pozor, překvapení ...  další testovací množina"
   ]
  },
  {
   "cell_type": "markdown",
   "metadata": {},
   "source": [
    "Data jsme si rozdělili na trénovací a testovací. Trénovací jsme použili na učení modelu. \n",
    "**Ale pozor!** Testovací množinu jsme použili k výběru modelu. Metrika na testovací množině nám tedy \n",
    "nedává nezávislý odhad toho, jak se bude náš model chovat na neznámých datech. Byl totiž vybrán tak, \n",
    "aby dával dobré výsledky na testovací množině. \n",
    "\n",
    "Testovací množina nám slouží jako odhad generalizačních schopností modelu. Neměla by ale být použita ani při učení,\n",
    "ani při výběru modelu. Část, kterou si oddělíme na \"testování\" pro účely výběru modelu, nazýváme správně \n",
    "**validační** množina. \n",
    "**Pozor:** Pokud jsme ale tuto validační množinu použili k výběru modelu, nesmíme ji používat k samotnému hodnocení generalizačních schopností tohoto modelu. \n",
    "\n",
    "A proto teď přichází opravdová testovací data, načtěte je ze souboru `fish_data_test.csv`."
   ]
  },
  {
   "cell_type": "code",
   "execution_count": null,
   "metadata": {},
   "outputs": [],
   "source": [
    "test_data = pd.read_csv(\"fish_data_test.csv\", index_col=0)\n",
    "\n",
    "test_data.pop(\"ID\")\n",
    "y_real_test = test_data.pop(\"Weight\")\n",
    "X_real_test = test_data \n",
    "\n",
    "X_real_test_transformed = _____\n",
    "X_real_test_scaled = _______"
   ]
  },
  {
   "cell_type": "code",
   "execution_count": null,
   "metadata": {},
   "outputs": [],
   "source": [
    "y_pred_test = best_model.predict(X_real_test_scaled)\n",
    "\n",
    "print(f\"MAE {mean_absolute_error(y_real_test, y_pred_test):.3f}\")\n",
    "print(f\"MSE {mean_squared_error(y_real_test, y_pred_test):.3f}\")\n",
    "print(f\"R2  {r2_score(y_real_test, y_pred_test):.3f}\")"
   ]
  },
  {
   "cell_type": "code",
   "execution_count": null,
   "metadata": {},
   "outputs": [],
   "source": [
    "for weight, predicted_weight in zip(y_real_test, y_pred_test):\n",
    "    print(f\"{weight:>10.1f}     {predicted_weight:>10.1f}\")"
   ]
  },
  {
   "cell_type": "markdown",
   "metadata": {},
   "source": [
    "# Visualizace na závěr "
   ]
  },
  {
   "cell_type": "markdown",
   "metadata": {},
   "source": [
    "+ Pro představu si zobrazme závislost váhy ryby na délce Length3. Zobrazíme zvlášt pro různé druhy, tedy např. pro Bream a Roach.  "
   ]
  },
  {
   "cell_type": "code",
   "execution_count": null,
   "metadata": {},
   "outputs": [],
   "source": [
    "is_bream = X_real_test[\"Species\"] == \"Bream\"\n",
    "predicted_bream_weights = best_model.predict(X_real_test_scaled[is_bream])\n",
    "\n",
    "is_roach = X_real_test[\"Species\"] == \"Roach\"\n",
    "predicted_roach_weights = best_model.predict(X_real_test_scaled[is_roach])"
   ]
  },
  {
   "cell_type": "code",
   "execution_count": null,
   "metadata": {},
   "outputs": [],
   "source": [
    "result_bream = pd.DataFrame()\n",
    "result_bream[\"length\"] = X_real_test[is_bream][\"Length3\"]\n",
    "result_bream[\"weight\"] = y_real_test[is_bream]\n",
    "result_bream[\"predicted\"] = predicted_bream_weights\n",
    "result_bream = result_bream.sort_values(\"length\")\n",
    "\n",
    "result_roach = pd.DataFrame()\n",
    "result_roach[\"length\"] = X_real_test[is_roach][\"Length3\"]\n",
    "result_roach[\"weight\"] = y_real_test[is_roach]\n",
    "result_roach[\"predicted\"] = predicted_roach_weights\n",
    "result_roach = result_roach.sort_values(\"length\")"
   ]
  },
  {
   "cell_type": "code",
   "execution_count": null,
   "metadata": {},
   "outputs": [],
   "source": [
    "import matplotlib.pyplot as plt \n",
    "\n",
    "fig, ax = plt.subplots(1, 2)\n",
    "\n",
    "ax[0].plot(result_bream[\"length\"], result_bream[\"weight\"], label=\"true weight\", marker=\"o\");\n",
    "ax[0].plot(result_bream[\"length\"], result_bream[\"predicted\"], label=\"prediction\", marker=\"o\");\n",
    "ax[0].legend()\n",
    "ax[0].set_title(\"Bream\")\n",
    "\n",
    "ax[1].plot(result_roach[\"length\"], result_roach[\"weight\"], label=\"true weight\", marker=\"o\");\n",
    "ax[1].plot(result_roach[\"length\"], result_roach[\"predicted\"], label=\"prediction\", marker=\"o\");\n",
    "ax[1].legend()\n",
    "ax[1].set_title(\"Roach\");"
   ]
  }
 ],
 "metadata": {
  "kernelspec": {
   "display_name": "Python 3 (ipykernel)",
   "language": "python",
   "name": "python3"
  },
  "language_info": {
   "codemirror_mode": {
    "name": "ipython",
    "version": 3
   },
   "file_extension": ".py",
   "mimetype": "text/x-python",
   "name": "python",
   "nbconvert_exporter": "python",
   "pygments_lexer": "ipython3",
   "version": "3.12.6"
  }
 },
 "nbformat": 4,
 "nbformat_minor": 4
}
