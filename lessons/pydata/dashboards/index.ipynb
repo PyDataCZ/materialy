{
 "cells": [
  {
   "cell_type": "markdown",
   "metadata": {},
   "source": [
    "# Interaktivní vizualizace a aplikace\n",
    "\n",
    "Materiály k této hodině najdeš v GitHub repozitáři [PyDataCZ/pydataladies-dashboard](https://github.com/PyDataCZ/pydataladies-dashboard.git)\n",
    "\n",
    "Pro zobrazení můžeš použít nbviewer: \n",
    "* [První část](https://nbviewer.jupyter.org/github/PyDataCZ/pydataladies-dashboard/blob/main/notebooks/dashboardy-1.ipynb)\n",
    "* [Druhá část](https://nbviewer.jupyter.org/github/PyDataCZ/pydataladies-dashboard/blob/main/notebooks/dashboardy-2.ipynb)"
   ]
  }
 ],
 "metadata": {
  "kernelspec": {
   "display_name": "Python 3.9.9 ('data')",
   "language": "python",
   "name": "python3"
  },
  "language_info": {
   "codemirror_mode": {
    "name": "ipython",
    "version": 3
   },
   "file_extension": ".py",
   "mimetype": "text/x-python",
   "name": "python",
   "nbconvert_exporter": "python",
   "pygments_lexer": "ipython3",
   "version": "3.10.10"
  },
  "vscode": {
   "interpreter": {
    "hash": "72160dfebc462fc90b093555bbb928aeea7de7923bddc35f4b44400e1d2267b1"
   }
  }
 },
 "nbformat": 4,
 "nbformat_minor": 4
}
