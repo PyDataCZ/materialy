{
 "cells": [
  {
   "cell_type": "markdown",
   "metadata": {
    "id": "Xsc_HEMd-tUF"
   },
   "source": [
    "# Databáze a SQL"
   ]
  },
  {
   "cell_type": "markdown",
   "metadata": {
    "id": "b7qmezbS-tUI"
   },
   "source": [
    "**Obsah:**\n",
    "\n",
    "- Úvod do databází a SQL\n",
    "- Jak s SQL databázemi pracovat v Pythonu\n",
    "- SQL 101 a cvičení"
   ]
  },
  {
   "cell_type": "markdown",
   "metadata": {
    "id": "uQLofOI4-tUI"
   },
   "source": [
    "## Úvod do databází"
   ]
  },
  {
   "cell_type": "markdown",
   "metadata": {
    "id": "E5rge1Q3-tUJ"
   },
   "source": [
    "Doteď jsme na kurzu pracovali se **soubory** - odněkud soubor stáhli na svůj počítač, a tam ho zpracovali, a pak třeba zase výsledek někam nahráli. Tento postup ale nestačí, pokud jsou data příliš veliká, s těmito daty pracuje naráz více lidí najednou a zároveň je i aktualizuje. To se řeší tak, že spustíte **databázový systém** (DBMS), ten data u sebe spravuje a vy se na tento systém připojujete přes klienta. DBMS může běžet na stejném počítači jako váš Python - nebo také úplně jinde. \n",
    "\n",
    "Např. e-shop bude pracovat s databází, ve které jsou uloženy informace o prodávaném zboží, rozdělení zboží do kategorií, objednávky, reklamace, registrovaní uživatelé... Takovou databázi můžeme označit za \"transakční\". Vy jako datoví analytici, inženýři apod. se pravděpodobně budete chtít do takovéto databáze připojit a stáhnout si z ní část dat pro svou další práci. Nebo dokonce může být vaším úkolem vytvořit novou \"analytickou\" databázi, která obsahuje data v jiné podobě, např. prodávané zboží bez popisků, bez fotografií, ale zato se statistikami návštěvnosti a prodejnosti."
   ]
  },
  {
   "cell_type": "markdown",
   "metadata": {
    "id": "UF5NJqNs-tUK"
   },
   "source": [
    "### Vlastnosti databází\n",
    "\n",
    "Od databáze (resp. databázového systému) očekáváme několik vlastností:\n",
    "\n",
    "- Že bude uchovávat data :) Data musí zůstat beze ztráty uložena i v případě výpadku napájení, když dojde místo na disku...\n",
    "- Práce s daty \"z různých úhlů\". Např. v e-shopu chceme jednou vypsat zboží podle kategorie, jindy podle stavu skladových zásob, jindy na základě full-textového vyhledávání..\n",
    "- Podpora uživatelů, rolí, oprávnění a kontroly přístupu k datům, security.\n",
    "- Rychlost, výkon, propustnost, latence\n",
    "- Škálovatelnost - jak do velikosti (gigabajty, terabajty, petabajty), tak do počtu prováděných operací za sekundu\n",
    "  \n",
    "Když se nad tím zamyslíte, jedná se o protichůdné požadavky. Tvůrci databázových systémů tak musí zvolit nějaký kompomis. Žádná databáze není \"nejlepší\" a vhodná na všechno. Zrovna co se týče rozdílu mezi \"transakční\" a \"analytickou\" databází, tak často pro tyto oblasti jsou vhodné odlišné systémy a přístupy.\n",
    "\n",
    "Na začátku budeme pro jednoduchost pracovat s databází [SQLite](https://www.sqlite.org/). Ta je poněkud specifická tím, že je uložena v jednom souboru (s příponou `.sqlite` nebo `.db`), není to tedy samostatně běžící server, ke kterému byste se připojovali. O to snadněji se ale s SQLite pracuje. A SQL jazyk, který si zde osvojíte je stejný (nebo minimálně velmi podobný) jako u složitějších databázových systémů jako [MySQL](https://www.mysql.com/) nebo [PostgreSQL](https://www.postgresql.org/). "
   ]
  },
  {
   "cell_type": "markdown",
   "metadata": {
    "id": "1Sp7t-d3-tUL"
   },
   "source": [
    "### SQL\n",
    "\n",
    "SQL je jazyk, kterým komunikujeme s databází. Umí vyjádřit různé operace nad tabulkami - výběr sloupců, řádků, vztahy mezi více tabulkami, agregace hodnot z více řádků... Tedy něco, co jsem v Pythonu \n",
    "\n",
    "Příklad:\n",
    "\n",
    "```\n",
    "SELECT title, year FROM movies;\n",
    "\n",
    "UPDATE directors SET birthdate = \"1950-01-02\" WHERE director_id = 3;\n",
    "```"
   ]
  },
  {
   "cell_type": "markdown",
   "metadata": {
    "id": "4jeObnev-tUM"
   },
   "source": [
    "## Jak s SQL databázemi pracovat v Pythonu"
   ]
  },
  {
   "cell_type": "markdown",
   "metadata": {
    "id": "FidgjzFF-tUM"
   },
   "source": [
    "Každá databáze se používá trochu jinak - liší se název modulu, který je potřeba importovat, mírně se liší způsob předávání dat použitých v SQL dotazech, může se lišit forma dat vrácených ve výsledku... \n",
    "\n",
    "Tento problém řeší knihovna [SQLAlchemy](https://www.sqlalchemy.org/), která poskytuje stejné rozhraní pro všechny širokou třídu databází. Nejprve si ji tedy nainstalujte."
   ]
  },
  {
   "cell_type": "code",
   "execution_count": 1,
   "metadata": {
    "id": "E8NphkEH-tUN"
   },
   "outputs": [],
   "source": [
    "# smažte # na následujícím řádku pro instalaci balíčku sqlalchemy\n",
    "# %pip install sqlalchemy"
   ]
  },
  {
   "cell_type": "markdown",
   "metadata": {
    "id": "uzLBzQ-Q-tUO"
   },
   "source": [
    "Knihovnu SQLAlchemy naimportujeme následovně"
   ]
  },
  {
   "cell_type": "code",
   "execution_count": 2,
   "metadata": {
    "id": "Ene12NLd-tUP"
   },
   "outputs": [],
   "source": [
    "import sqlalchemy"
   ]
  },
  {
   "cell_type": "markdown",
   "metadata": {
    "id": "3A7LuzgJ-tUP"
   },
   "source": [
    "a jako vždy, importujeme i [Pandas](https://pandas.pydata.org/pandas-docs/stable/reference/index.html):"
   ]
  },
  {
   "cell_type": "code",
   "execution_count": 3,
   "metadata": {
    "id": "pwfSJ7SP-tUP"
   },
   "outputs": [],
   "source": [
    "import pandas as pd"
   ]
  },
  {
   "cell_type": "markdown",
   "metadata": {
    "id": "bMBkl1gj-tUP"
   },
   "source": [
    "Pro první ukázku práce s databází použijeme data od Míry Brabence.\n",
    "Jde o databázi typu [SQLite](https://cs.wikipedia.org/wiki/SQLite) - skládá se z jediného souboru, ve kterém jsou všecha data. To znamená, že se nepřipojujeme k žádnému serveru pomocí jména a hesla jako u \"klasických\" databází.\n",
    "Databáze v podobě SQLite souboru má výhodu v tom, že když něco rozbijete, tak ten soubor prostě smažete a uděláte si nový :)\n"
   ]
  },
  {
   "cell_type": "code",
   "execution_count": 4,
   "metadata": {
    "id": "mjUWoAr1-tUP"
   },
   "outputs": [],
   "source": [
    "# smažte # na následujícím řádku pro stažení dat\n",
    "# !wget https://github.com/PyDataCZ/pyladies-kurz/raw/main/lessons/pydata/databases/movies.sqlite"
   ]
  },
  {
   "cell_type": "markdown",
   "metadata": {
    "id": "8YjxKs2i-tUQ"
   },
   "source": [
    "### Otevření databáze, průzkum struktury"
   ]
  },
  {
   "cell_type": "code",
   "execution_count": 5,
   "metadata": {
    "id": "H5I7YzDx-tUQ"
   },
   "outputs": [],
   "source": [
    "engine = sqlalchemy.create_engine('sqlite:///movies.sqlite')"
   ]
  },
  {
   "cell_type": "markdown",
   "metadata": {
    "id": "Xuhmdn-4-tUQ"
   },
   "source": [
    "Objekt `engine` obsahuje připojení do databáze a skrz něj budeme provádět operace s danou databází.\n",
    "\n",
    "Začneme tím, že se podíváme, jaká je struktura té databáze - jaké tabulky obsahuje a co obsahují ty tabulky. Každá databáze na to má jiné finty, jak toto zjistit (někdy funguje SQL příkaz `SHOW TABLES`, jindy je zase potřeba `SELECT` z metadat), naštěstí SQLAlchemy nám s tím pomůže."
   ]
  },
  {
   "cell_type": "code",
   "execution_count": 6,
   "metadata": {
    "colab": {
     "base_uri": "https://localhost:8080/"
    },
    "id": "lSvzogS4-tUQ",
    "outputId": "f49eb7c3-674a-4c7b-c900-0c4437670218"
   },
   "outputs": [
    {
     "data": {
      "text/plain": [
       "['actor', 'casting', 'movie']"
      ]
     },
     "execution_count": 6,
     "metadata": {},
     "output_type": "execute_result"
    }
   ],
   "source": [
    "sqlalchemy.inspect(engine).get_table_names()"
   ]
  },
  {
   "cell_type": "markdown",
   "metadata": {
    "id": "CLAL3gaFoSSM"
   },
   "source": [
    "Pro *průzkum* databáze jsem připravil funkci `prozkoumat`."
   ]
  },
  {
   "cell_type": "code",
   "execution_count": 7,
   "metadata": {
    "id": "uVU4impn-tUR"
   },
   "outputs": [],
   "source": [
    "def prozkoumat(engine):\n",
    "    inspector = sqlalchemy.inspect(engine)\n",
    "    for schema in inspector.get_schema_names():\n",
    "        print('Schema:', schema)\n",
    "        for table_name in inspector.get_table_names(schema=schema):\n",
    "            print()\n",
    "            print('  Table:', table_name)\n",
    "            print()\n",
    "            for column in inspector.get_columns(table_name, schema=schema):\n",
    "                print('      Column:', column['name'].ljust(12), column['type'])"
   ]
  },
  {
   "cell_type": "code",
   "execution_count": 8,
   "metadata": {
    "colab": {
     "base_uri": "https://localhost:8080/"
    },
    "id": "ZzLBz1TP-tUR",
    "outputId": "402f9a5d-0a3e-43e6-f706-74e8ed9bad9b"
   },
   "outputs": [
    {
     "name": "stdout",
     "output_type": "stream",
     "text": [
      "Schema: main\n",
      "\n",
      "  Table: actor\n",
      "\n",
      "      Column: id           INTEGER\n",
      "      Column: name         VARCHAR(50)\n",
      "\n",
      "  Table: casting\n",
      "\n",
      "      Column: movieid      INTEGER\n",
      "      Column: actorid      INTEGER\n",
      "      Column: ord          INTEGER\n",
      "\n",
      "  Table: movie\n",
      "\n",
      "      Column: id           INTEGER\n",
      "      Column: title        VARCHAR(50)\n",
      "      Column: yr           INTEGER\n",
      "      Column: director     INTEGER\n",
      "      Column: budget       INTEGER\n",
      "      Column: gross        INTEGER\n"
     ]
    }
   ],
   "source": [
    "prozkoumat(engine)"
   ]
  },
  {
   "cell_type": "markdown",
   "metadata": {
    "id": "KvKi3t77on4g"
   },
   "source": [
    "Celou tabulku stáhneme pomocí funkce `pd.read_sql_table`."
   ]
  },
  {
   "cell_type": "code",
   "execution_count": 9,
   "metadata": {
    "colab": {
     "base_uri": "https://localhost:8080/",
     "height": 423
    },
    "id": "2Q0biJLMolsJ",
    "outputId": "3e1e4c96-3050-42c2-94c3-16368e1465c5"
   },
   "outputs": [
    {
     "data": {
      "text/html": [
       "<div>\n",
       "<style scoped>\n",
       "    .dataframe tbody tr th:only-of-type {\n",
       "        vertical-align: middle;\n",
       "    }\n",
       "\n",
       "    .dataframe tbody tr th {\n",
       "        vertical-align: top;\n",
       "    }\n",
       "\n",
       "    .dataframe thead th {\n",
       "        text-align: right;\n",
       "    }\n",
       "</style>\n",
       "<table border=\"1\" class=\"dataframe\">\n",
       "  <thead>\n",
       "    <tr style=\"text-align: right;\">\n",
       "      <th></th>\n",
       "      <th>id</th>\n",
       "      <th>name</th>\n",
       "    </tr>\n",
       "  </thead>\n",
       "  <tbody>\n",
       "    <tr>\n",
       "      <th>0</th>\n",
       "      <td>2</td>\n",
       "      <td></td>\n",
       "    </tr>\n",
       "    <tr>\n",
       "      <th>1</th>\n",
       "      <td>3</td>\n",
       "      <td>Richard Brooks</td>\n",
       "    </tr>\n",
       "    <tr>\n",
       "      <th>2</th>\n",
       "      <td>4</td>\n",
       "      <td>Warren Beatty</td>\n",
       "    </tr>\n",
       "    <tr>\n",
       "      <th>3</th>\n",
       "      <td>5</td>\n",
       "      <td>Goldie Hawn</td>\n",
       "    </tr>\n",
       "    <tr>\n",
       "      <th>4</th>\n",
       "      <td>6</td>\n",
       "      <td>Gert FrÃ¶be</td>\n",
       "    </tr>\n",
       "    <tr>\n",
       "      <th>...</th>\n",
       "      <td>...</td>\n",
       "      <td>...</td>\n",
       "    </tr>\n",
       "    <tr>\n",
       "      <th>48143</th>\n",
       "      <td>48162</td>\n",
       "      <td>David Kernan</td>\n",
       "    </tr>\n",
       "    <tr>\n",
       "      <th>48144</th>\n",
       "      <td>48163</td>\n",
       "      <td>Peter Gill</td>\n",
       "    </tr>\n",
       "    <tr>\n",
       "      <th>48145</th>\n",
       "      <td>48164</td>\n",
       "      <td>Dickie Owen</td>\n",
       "    </tr>\n",
       "    <tr>\n",
       "      <th>48146</th>\n",
       "      <td>48165</td>\n",
       "      <td>Dennis Folbigge</td>\n",
       "    </tr>\n",
       "    <tr>\n",
       "      <th>48147</th>\n",
       "      <td>48166</td>\n",
       "      <td>Douglas Hickox</td>\n",
       "    </tr>\n",
       "  </tbody>\n",
       "</table>\n",
       "<p>48148 rows × 2 columns</p>\n",
       "</div>"
      ],
      "text/plain": [
       "          id             name\n",
       "0          2                 \n",
       "1          3   Richard Brooks\n",
       "2          4    Warren Beatty\n",
       "3          5      Goldie Hawn\n",
       "4          6      Gert FrÃ¶be\n",
       "...      ...              ...\n",
       "48143  48162     David Kernan\n",
       "48144  48163       Peter Gill\n",
       "48145  48164      Dickie Owen\n",
       "48146  48165  Dennis Folbigge\n",
       "48147  48166   Douglas Hickox\n",
       "\n",
       "[48148 rows x 2 columns]"
      ]
     },
     "execution_count": 9,
     "metadata": {},
     "output_type": "execute_result"
    }
   ],
   "source": [
    "pd.read_sql_table('actor', engine)"
   ]
  },
  {
   "cell_type": "markdown",
   "metadata": {
    "id": "4zIUmbONqNmi"
   },
   "source": [
    "Reálná databáze ale může obsahovat tak velké, že je celé stáhnout nemůžete nebo nechcete. Stáhnete tedy pouze jejich část určenou pomocí SQL příkazu SELECT (funkce `pd.read_sql_query`). Takže pokud např. chcete zjistit údaje k filmu \"Chasing Amy\"."
   ]
  },
  {
   "cell_type": "code",
   "execution_count": 10,
   "metadata": {
    "colab": {
     "base_uri": "https://localhost:8080/",
     "height": 81
    },
    "id": "fLMGcEuLqp7q",
    "outputId": "1139d677-8ba7-42d5-94f7-0c890bd674fc"
   },
   "outputs": [
    {
     "data": {
      "text/html": [
       "<div>\n",
       "<style scoped>\n",
       "    .dataframe tbody tr th:only-of-type {\n",
       "        vertical-align: middle;\n",
       "    }\n",
       "\n",
       "    .dataframe tbody tr th {\n",
       "        vertical-align: top;\n",
       "    }\n",
       "\n",
       "    .dataframe thead th {\n",
       "        text-align: right;\n",
       "    }\n",
       "</style>\n",
       "<table border=\"1\" class=\"dataframe\">\n",
       "  <thead>\n",
       "    <tr style=\"text-align: right;\">\n",
       "      <th></th>\n",
       "      <th>title</th>\n",
       "      <th>yr</th>\n",
       "      <th>budget</th>\n",
       "      <th>gross</th>\n",
       "    </tr>\n",
       "  </thead>\n",
       "  <tbody>\n",
       "    <tr>\n",
       "      <th>0</th>\n",
       "      <td>Chasing Amy</td>\n",
       "      <td>1997</td>\n",
       "      <td>250000</td>\n",
       "      <td>12021272</td>\n",
       "    </tr>\n",
       "  </tbody>\n",
       "</table>\n",
       "</div>"
      ],
      "text/plain": [
       "         title    yr  budget     gross\n",
       "0  Chasing Amy  1997  250000  12021272"
      ]
     },
     "execution_count": 10,
     "metadata": {},
     "output_type": "execute_result"
    }
   ],
   "source": [
    "pd.read_sql_query('SELECT title, yr, budget, gross FROM movie WHERE title = \"Chasing Amy\"', engine)"
   ]
  },
  {
   "cell_type": "markdown",
   "metadata": {
    "id": "HVFXXFWivuUM"
   },
   "source": [
    "## SQL 101\n",
    "\n",
    "Jedna hodina je příliš málo na to, abychom probrali SQL a databáze do hloubky. Soustředíme se tedy na nejčastější případ použití: databázi nespravujete vy, ale nějaký *datový inženýr* z firmy a vy jste dostali práva pro čtení (nikoli pro zápis). Z databáze potřebujete získat data, abyste s nimi dále pracovali.\n",
    "\n",
    "Učite se budeme na příkladech. Budeme však potřeboval ještě několik datových sad."
   ]
  },
  {
   "cell_type": "code",
   "execution_count": 11,
   "metadata": {
    "id": "0pJ6MZPZ1KYc"
   },
   "outputs": [],
   "source": [
    "# ostraňte # na začátku následujících řádků pro stažení souboru world.sqlite\n",
    "# !wget https://github.com/PyDataCZ/pyladies-kurz/raw/main/lessons/pydata/databases/world.sqlite"
   ]
  },
  {
   "cell_type": "code",
   "execution_count": 12,
   "metadata": {
    "colab": {
     "base_uri": "https://localhost:8080/"
    },
    "id": "MFTLn-YZ1U9X",
    "outputId": "b71ac1ca-c13a-4d55-a682-12c6410d22b3"
   },
   "outputs": [
    {
     "name": "stdout",
     "output_type": "stream",
     "text": [
      "Schema: main\n",
      "\n",
      "  Table: world\n",
      "\n",
      "      Column: name         VARCHAR(50)\n",
      "      Column: continent    VARCHAR(60)\n",
      "      Column: area         DECIMAL(10, 0)\n",
      "      Column: population   DECIMAL(11, 0)\n",
      "      Column: gdp          DECIMAL(14, 0)\n",
      "      Column: capital      VARCHAR(60)\n",
      "      Column: tld          VARCHAR(5)\n",
      "      Column: flag         VARCHAR(255)\n"
     ]
    }
   ],
   "source": [
    "engine_world = sqlalchemy.create_engine('sqlite:///world.sqlite')\n",
    "\n",
    "prozkoumat(engine_world)"
   ]
  },
  {
   "cell_type": "code",
   "execution_count": 13,
   "metadata": {
    "colab": {
     "base_uri": "https://localhost:8080/",
     "height": 143
    },
    "id": "kw0cZXVA1w3w",
    "outputId": "78b43445-a00d-4b66-ba9f-d5e6cc52e35b"
   },
   "outputs": [
    {
     "data": {
      "text/html": [
       "<div>\n",
       "<style scoped>\n",
       "    .dataframe tbody tr th:only-of-type {\n",
       "        vertical-align: middle;\n",
       "    }\n",
       "\n",
       "    .dataframe tbody tr th {\n",
       "        vertical-align: top;\n",
       "    }\n",
       "\n",
       "    .dataframe thead th {\n",
       "        text-align: right;\n",
       "    }\n",
       "</style>\n",
       "<table border=\"1\" class=\"dataframe\">\n",
       "  <thead>\n",
       "    <tr style=\"text-align: right;\">\n",
       "      <th></th>\n",
       "      <th>name</th>\n",
       "      <th>continent</th>\n",
       "      <th>area</th>\n",
       "      <th>population</th>\n",
       "      <th>gdp</th>\n",
       "      <th>capital</th>\n",
       "      <th>tld</th>\n",
       "      <th>flag</th>\n",
       "    </tr>\n",
       "  </thead>\n",
       "  <tbody>\n",
       "    <tr>\n",
       "      <th>0</th>\n",
       "      <td>Afghanistan</td>\n",
       "      <td>Asia</td>\n",
       "      <td>652230</td>\n",
       "      <td>25500100</td>\n",
       "      <td>20364000000</td>\n",
       "      <td>Kabul</td>\n",
       "      <td>.af</td>\n",
       "      <td>//upload.wikimedia.org/wikipedia/commons/9/9a/...</td>\n",
       "    </tr>\n",
       "    <tr>\n",
       "      <th>1</th>\n",
       "      <td>Albania</td>\n",
       "      <td>Europe</td>\n",
       "      <td>28748</td>\n",
       "      <td>2821977</td>\n",
       "      <td>12044000000</td>\n",
       "      <td>Tirana</td>\n",
       "      <td>.al</td>\n",
       "      <td>//upload.wikimedia.org/wikipedia/commons/3/36/...</td>\n",
       "    </tr>\n",
       "    <tr>\n",
       "      <th>2</th>\n",
       "      <td>Algeria</td>\n",
       "      <td>Africa</td>\n",
       "      <td>2381741</td>\n",
       "      <td>38700000</td>\n",
       "      <td>207021000000</td>\n",
       "      <td>Algiers</td>\n",
       "      <td>.dz</td>\n",
       "      <td>//upload.wikimedia.org/wikipedia/commons/7/77/...</td>\n",
       "    </tr>\n",
       "  </tbody>\n",
       "</table>\n",
       "</div>"
      ],
      "text/plain": [
       "          name continent     area  population           gdp  capital  tld  \\\n",
       "0  Afghanistan      Asia   652230    25500100   20364000000    Kabul  .af   \n",
       "1      Albania    Europe    28748     2821977   12044000000   Tirana  .al   \n",
       "2      Algeria    Africa  2381741    38700000  207021000000  Algiers  .dz   \n",
       "\n",
       "                                                flag  \n",
       "0  //upload.wikimedia.org/wikipedia/commons/9/9a/...  \n",
       "1  //upload.wikimedia.org/wikipedia/commons/3/36/...  \n",
       "2  //upload.wikimedia.org/wikipedia/commons/7/77/...  "
      ]
     },
     "execution_count": 13,
     "metadata": {},
     "output_type": "execute_result"
    }
   ],
   "source": [
    "pd.read_sql_query('SELECT * FROM world LIMIT 3', engine_world)"
   ]
  },
  {
   "cell_type": "markdown",
   "metadata": {
    "id": "JPX8rS6Q-tUR"
   },
   "source": [
    "### SELECT\n",
    "\n",
    "Upravte následující příklady a zkontrolujte, že jste dostali očekávaný výsledek. Nulté cvičení projdeme společně.\n",
    "\n",
    "**Cvičení 0:** Kód níže získá z databáze počet obyvatel Francie. Upravte jej a zjistěte počet obyvatel Německa (řešení 80716000)."
   ]
  },
  {
   "cell_type": "code",
   "execution_count": 14,
   "metadata": {
    "colab": {
     "base_uri": "https://localhost:8080/",
     "height": 81
    },
    "id": "t1Keabp4-tUR",
    "outputId": "05532850-a4f9-4320-8073-38db390c4fd9"
   },
   "outputs": [
    {
     "data": {
      "text/html": [
       "<div>\n",
       "<style scoped>\n",
       "    .dataframe tbody tr th:only-of-type {\n",
       "        vertical-align: middle;\n",
       "    }\n",
       "\n",
       "    .dataframe tbody tr th {\n",
       "        vertical-align: top;\n",
       "    }\n",
       "\n",
       "    .dataframe thead th {\n",
       "        text-align: right;\n",
       "    }\n",
       "</style>\n",
       "<table border=\"1\" class=\"dataframe\">\n",
       "  <thead>\n",
       "    <tr style=\"text-align: right;\">\n",
       "      <th></th>\n",
       "      <th>population</th>\n",
       "    </tr>\n",
       "  </thead>\n",
       "  <tbody>\n",
       "    <tr>\n",
       "      <th>0</th>\n",
       "      <td>65906000</td>\n",
       "    </tr>\n",
       "  </tbody>\n",
       "</table>\n",
       "</div>"
      ],
      "text/plain": [
       "   population\n",
       "0    65906000"
      ]
     },
     "execution_count": 14,
     "metadata": {},
     "output_type": "execute_result"
    }
   ],
   "source": [
    "sql_statement = \"\"\"\n",
    "SELECT population FROM world\n",
    "  WHERE name = 'France'\n",
    "\"\"\"\n",
    "\n",
    "pd.read_sql_query(sql_statement, engine_world)"
   ]
  },
  {
   "cell_type": "markdown",
   "metadata": {
    "id": "z_Rw8WTs4N-l"
   },
   "source": [
    "**Cvičení 1**: Pomocí operátoru *IN* můžete testovat, jestli sloupec nabývá jedné z několika hodnot. Kód níže získá z databáze tabulku se jménem státu a počtem obyvatel pro Brazílii, Rusko, Indii a Čínu.\n",
    "\n",
    "Upravte jej a získejte počet obyvatel pro skandinávské země ('Sweden', 'Norway', 'Denmark'). Která z těchto tří zemí má nejméně obyvatel? (řešení: Norsko - 5124383)"
   ]
  },
  {
   "cell_type": "code",
   "execution_count": 15,
   "metadata": {
    "colab": {
     "base_uri": "https://localhost:8080/",
     "height": 175
    },
    "id": "FPt9d3HX5GB4",
    "outputId": "65b3a690-8008-4b3c-cc72-1b7ac5eb023b"
   },
   "outputs": [
    {
     "data": {
      "text/html": [
       "<div>\n",
       "<style scoped>\n",
       "    .dataframe tbody tr th:only-of-type {\n",
       "        vertical-align: middle;\n",
       "    }\n",
       "\n",
       "    .dataframe tbody tr th {\n",
       "        vertical-align: top;\n",
       "    }\n",
       "\n",
       "    .dataframe thead th {\n",
       "        text-align: right;\n",
       "    }\n",
       "</style>\n",
       "<table border=\"1\" class=\"dataframe\">\n",
       "  <thead>\n",
       "    <tr style=\"text-align: right;\">\n",
       "      <th></th>\n",
       "      <th>name</th>\n",
       "      <th>population</th>\n",
       "    </tr>\n",
       "  </thead>\n",
       "  <tbody>\n",
       "    <tr>\n",
       "      <th>0</th>\n",
       "      <td>Brazil</td>\n",
       "      <td>202794000</td>\n",
       "    </tr>\n",
       "    <tr>\n",
       "      <th>1</th>\n",
       "      <td>China</td>\n",
       "      <td>1365370000</td>\n",
       "    </tr>\n",
       "    <tr>\n",
       "      <th>2</th>\n",
       "      <td>India</td>\n",
       "      <td>1246160000</td>\n",
       "    </tr>\n",
       "    <tr>\n",
       "      <th>3</th>\n",
       "      <td>Russia</td>\n",
       "      <td>146000000</td>\n",
       "    </tr>\n",
       "  </tbody>\n",
       "</table>\n",
       "</div>"
      ],
      "text/plain": [
       "     name  population\n",
       "0  Brazil   202794000\n",
       "1   China  1365370000\n",
       "2   India  1246160000\n",
       "3  Russia   146000000"
      ]
     },
     "execution_count": 15,
     "metadata": {},
     "output_type": "execute_result"
    }
   ],
   "source": [
    "sql_statement = \"\"\"\n",
    "SELECT name, population FROM world\n",
    "  WHERE name IN ('Brazil', 'Russia', 'India', 'China');\n",
    "\"\"\"\n",
    "\n",
    "pd.read_sql_query(sql_statement, engine_world)"
   ]
  },
  {
   "cell_type": "markdown",
   "metadata": {
    "id": "lOtzD8kE59bc"
   },
   "source": [
    "**Cvičení 2:** Které státy nejsou příliš malé, ani příliš velké? Funkce BETWEEN umožňuje zadat rozsah (hraniční hodnoty). Níže uvedený příklad zobrazuje státy o rozloze 200 000-250 000 km². Upravte jej tak, aby zobrazoval jméno státu a jeho plochu pro státy s rozlohou mezi 250 000 a 300 000 km². (řešení: Burkina Faso, Ecuador, Gabon, New Zealand)"
   ]
  },
  {
   "cell_type": "code",
   "execution_count": 16,
   "metadata": {
    "colab": {
     "base_uri": "https://localhost:8080/",
     "height": 300
    },
    "id": "TwpLDZS9577y",
    "outputId": "e51aa576-99a0-471a-ac75-9fd412ec9e5a"
   },
   "outputs": [
    {
     "data": {
      "text/html": [
       "<div>\n",
       "<style scoped>\n",
       "    .dataframe tbody tr th:only-of-type {\n",
       "        vertical-align: middle;\n",
       "    }\n",
       "\n",
       "    .dataframe tbody tr th {\n",
       "        vertical-align: top;\n",
       "    }\n",
       "\n",
       "    .dataframe thead th {\n",
       "        text-align: right;\n",
       "    }\n",
       "</style>\n",
       "<table border=\"1\" class=\"dataframe\">\n",
       "  <thead>\n",
       "    <tr style=\"text-align: right;\">\n",
       "      <th></th>\n",
       "      <th>name</th>\n",
       "      <th>area</th>\n",
       "    </tr>\n",
       "  </thead>\n",
       "  <tbody>\n",
       "    <tr>\n",
       "      <th>0</th>\n",
       "      <td>Belarus</td>\n",
       "      <td>207600</td>\n",
       "    </tr>\n",
       "    <tr>\n",
       "      <th>1</th>\n",
       "      <td>Ghana</td>\n",
       "      <td>238533</td>\n",
       "    </tr>\n",
       "    <tr>\n",
       "      <th>2</th>\n",
       "      <td>Guinea</td>\n",
       "      <td>245857</td>\n",
       "    </tr>\n",
       "    <tr>\n",
       "      <th>3</th>\n",
       "      <td>Guyana</td>\n",
       "      <td>214969</td>\n",
       "    </tr>\n",
       "    <tr>\n",
       "      <th>4</th>\n",
       "      <td>Laos</td>\n",
       "      <td>236800</td>\n",
       "    </tr>\n",
       "    <tr>\n",
       "      <th>5</th>\n",
       "      <td>Romania</td>\n",
       "      <td>238391</td>\n",
       "    </tr>\n",
       "    <tr>\n",
       "      <th>6</th>\n",
       "      <td>Uganda</td>\n",
       "      <td>241550</td>\n",
       "    </tr>\n",
       "    <tr>\n",
       "      <th>7</th>\n",
       "      <td>United Kingdom</td>\n",
       "      <td>242900</td>\n",
       "    </tr>\n",
       "  </tbody>\n",
       "</table>\n",
       "</div>"
      ],
      "text/plain": [
       "             name    area\n",
       "0         Belarus  207600\n",
       "1           Ghana  238533\n",
       "2          Guinea  245857\n",
       "3          Guyana  214969\n",
       "4            Laos  236800\n",
       "5         Romania  238391\n",
       "6          Uganda  241550\n",
       "7  United Kingdom  242900"
      ]
     },
     "execution_count": 16,
     "metadata": {},
     "output_type": "execute_result"
    }
   ],
   "source": [
    "sql_statement = \"\"\"\n",
    "SELECT name, area FROM world\n",
    "  WHERE area BETWEEN 200000 AND 250000\n",
    "\"\"\"\n",
    "\n",
    "pd.read_sql_query(sql_statement, engine_world)"
   ]
  },
  {
   "cell_type": "markdown",
   "metadata": {
    "id": "ZzR4HDY47ruX"
   },
   "source": [
    "**Cvičení 3**: K nalezení států začínajících na písmeno B můžete použít `WHERE name LIKE 'B%'` (`%` nahradí cokoli).\n",
    "\n",
    "Kolik je v tabulce států začínajících na Y? (řešení: je právě jeden)"
   ]
  },
  {
   "cell_type": "code",
   "execution_count": 17,
   "metadata": {
    "colab": {
     "base_uri": "https://localhost:8080/",
     "height": 143
    },
    "id": "BdX72JEx9pyU",
    "outputId": "f4344b3e-25d4-4258-9913-7c2703950f4a"
   },
   "outputs": [
    {
     "data": {
      "text/html": [
       "<div>\n",
       "<style scoped>\n",
       "    .dataframe tbody tr th:only-of-type {\n",
       "        vertical-align: middle;\n",
       "    }\n",
       "\n",
       "    .dataframe tbody tr th {\n",
       "        vertical-align: top;\n",
       "    }\n",
       "\n",
       "    .dataframe thead th {\n",
       "        text-align: right;\n",
       "    }\n",
       "</style>\n",
       "<table border=\"1\" class=\"dataframe\">\n",
       "  <thead>\n",
       "    <tr style=\"text-align: right;\">\n",
       "      <th></th>\n",
       "      <th>name</th>\n",
       "    </tr>\n",
       "  </thead>\n",
       "  <tbody>\n",
       "    <tr>\n",
       "      <th>0</th>\n",
       "      <td>Fiji</td>\n",
       "    </tr>\n",
       "    <tr>\n",
       "      <th>1</th>\n",
       "      <td>Finland</td>\n",
       "    </tr>\n",
       "    <tr>\n",
       "      <th>2</th>\n",
       "      <td>France</td>\n",
       "    </tr>\n",
       "  </tbody>\n",
       "</table>\n",
       "</div>"
      ],
      "text/plain": [
       "      name\n",
       "0     Fiji\n",
       "1  Finland\n",
       "2   France"
      ]
     },
     "execution_count": 17,
     "metadata": {},
     "output_type": "execute_result"
    }
   ],
   "source": [
    "sql_statement = \"\"\"\n",
    "SELECT name FROM world\n",
    "  WHERE name LIKE 'F%'\n",
    "\"\"\"\n",
    "\n",
    "pd.read_sql_query(sql_statement, engine_world)"
   ]
  },
  {
   "cell_type": "markdown",
   "metadata": {
    "id": "9x8h0Ryr-hJ0"
   },
   "source": [
    "**Cvičení 4**: Kolik je států, jejichž jméno končí písmenem y? (řešení: osm)"
   ]
  },
  {
   "cell_type": "code",
   "execution_count": 18,
   "metadata": {
    "colab": {
     "base_uri": "https://localhost:8080/",
     "height": 143
    },
    "id": "z5MriToI-uUf",
    "outputId": "0a8daac9-0ec2-4956-c1e6-05bd72e7e89a"
   },
   "outputs": [
    {
     "data": {
      "text/html": [
       "<div>\n",
       "<style scoped>\n",
       "    .dataframe tbody tr th:only-of-type {\n",
       "        vertical-align: middle;\n",
       "    }\n",
       "\n",
       "    .dataframe tbody tr th {\n",
       "        vertical-align: top;\n",
       "    }\n",
       "\n",
       "    .dataframe thead th {\n",
       "        text-align: right;\n",
       "    }\n",
       "</style>\n",
       "<table border=\"1\" class=\"dataframe\">\n",
       "  <thead>\n",
       "    <tr style=\"text-align: right;\">\n",
       "      <th></th>\n",
       "      <th>name</th>\n",
       "    </tr>\n",
       "  </thead>\n",
       "  <tbody>\n",
       "    <tr>\n",
       "      <th>0</th>\n",
       "      <td>Fiji</td>\n",
       "    </tr>\n",
       "    <tr>\n",
       "      <th>1</th>\n",
       "      <td>Finland</td>\n",
       "    </tr>\n",
       "    <tr>\n",
       "      <th>2</th>\n",
       "      <td>France</td>\n",
       "    </tr>\n",
       "  </tbody>\n",
       "</table>\n",
       "</div>"
      ],
      "text/plain": [
       "      name\n",
       "0     Fiji\n",
       "1  Finland\n",
       "2   France"
      ]
     },
     "execution_count": 18,
     "metadata": {},
     "output_type": "execute_result"
    }
   ],
   "source": [
    "sql_statement = \"\"\"\n",
    "SELECT name FROM world\n",
    "  WHERE name LIKE 'F%'\n",
    "\"\"\"\n",
    "\n",
    "pd.read_sql_query(sql_statement, engine_world)"
   ]
  },
  {
   "cell_type": "markdown",
   "metadata": {
    "id": "NKodp_ec_Ovd"
   },
   "source": [
    "**Cvičení 5**: Kolik států má ve jméně písmeno x? Kolik jich končí -land? A kolik jich začíná písmenem C a končí -ia? (řešení: 2, 8, 3)"
   ]
  },
  {
   "cell_type": "code",
   "execution_count": 19,
   "metadata": {
    "colab": {
     "base_uri": "https://localhost:8080/",
     "height": 143
    },
    "id": "GqX_MvJd_jZ2",
    "outputId": "46efe97e-72a6-4c80-894b-000aec61ab7d"
   },
   "outputs": [
    {
     "data": {
      "text/html": [
       "<div>\n",
       "<style scoped>\n",
       "    .dataframe tbody tr th:only-of-type {\n",
       "        vertical-align: middle;\n",
       "    }\n",
       "\n",
       "    .dataframe tbody tr th {\n",
       "        vertical-align: top;\n",
       "    }\n",
       "\n",
       "    .dataframe thead th {\n",
       "        text-align: right;\n",
       "    }\n",
       "</style>\n",
       "<table border=\"1\" class=\"dataframe\">\n",
       "  <thead>\n",
       "    <tr style=\"text-align: right;\">\n",
       "      <th></th>\n",
       "      <th>name</th>\n",
       "    </tr>\n",
       "  </thead>\n",
       "  <tbody>\n",
       "    <tr>\n",
       "      <th>0</th>\n",
       "      <td>Fiji</td>\n",
       "    </tr>\n",
       "    <tr>\n",
       "      <th>1</th>\n",
       "      <td>Finland</td>\n",
       "    </tr>\n",
       "    <tr>\n",
       "      <th>2</th>\n",
       "      <td>France</td>\n",
       "    </tr>\n",
       "  </tbody>\n",
       "</table>\n",
       "</div>"
      ],
      "text/plain": [
       "      name\n",
       "0     Fiji\n",
       "1  Finland\n",
       "2   France"
      ]
     },
     "execution_count": 19,
     "metadata": {},
     "output_type": "execute_result"
    }
   ],
   "source": [
    "sql_statement = \"\"\"\n",
    "SELECT name FROM world\n",
    "  WHERE name LIKE 'F%'\n",
    "\"\"\"\n",
    "\n",
    "pd.read_sql_query(sql_statement, engine_world)"
   ]
  },
  {
   "cell_type": "markdown",
   "metadata": {
    "id": "XoMcMg_dAreT"
   },
   "source": [
    "**Cvičení 6**: Indie a Angola mají jako druhý znak písmeno n. Podtržítko můžete použít jako zástupný znak pro právě jeden znak.\n",
    "\n",
    "Kolik států má jako druhý znak písmeno t? (řešení: dva)"
   ]
  },
  {
   "cell_type": "code",
   "execution_count": 20,
   "metadata": {
    "colab": {
     "base_uri": "https://localhost:8080/",
     "height": 300
    },
    "id": "1CypTIphA2dA",
    "outputId": "00a0e5c6-f58f-4ab5-f78a-c3a2590bbfdb"
   },
   "outputs": [
    {
     "data": {
      "text/html": [
       "<div>\n",
       "<style scoped>\n",
       "    .dataframe tbody tr th:only-of-type {\n",
       "        vertical-align: middle;\n",
       "    }\n",
       "\n",
       "    .dataframe tbody tr th {\n",
       "        vertical-align: top;\n",
       "    }\n",
       "\n",
       "    .dataframe thead th {\n",
       "        text-align: right;\n",
       "    }\n",
       "</style>\n",
       "<table border=\"1\" class=\"dataframe\">\n",
       "  <thead>\n",
       "    <tr style=\"text-align: right;\">\n",
       "      <th></th>\n",
       "      <th>name</th>\n",
       "    </tr>\n",
       "  </thead>\n",
       "  <tbody>\n",
       "    <tr>\n",
       "      <th>0</th>\n",
       "      <td>Andorra</td>\n",
       "    </tr>\n",
       "    <tr>\n",
       "      <th>1</th>\n",
       "      <td>Angola</td>\n",
       "    </tr>\n",
       "    <tr>\n",
       "      <th>2</th>\n",
       "      <td>Antigua and Barbuda</td>\n",
       "    </tr>\n",
       "    <tr>\n",
       "      <th>3</th>\n",
       "      <td>India</td>\n",
       "    </tr>\n",
       "    <tr>\n",
       "      <th>4</th>\n",
       "      <td>Indonesia</td>\n",
       "    </tr>\n",
       "    <tr>\n",
       "      <th>5</th>\n",
       "      <td>United Arab Emirates</td>\n",
       "    </tr>\n",
       "    <tr>\n",
       "      <th>6</th>\n",
       "      <td>United Kingdom</td>\n",
       "    </tr>\n",
       "    <tr>\n",
       "      <th>7</th>\n",
       "      <td>United States</td>\n",
       "    </tr>\n",
       "  </tbody>\n",
       "</table>\n",
       "</div>"
      ],
      "text/plain": [
       "                   name\n",
       "0               Andorra\n",
       "1                Angola\n",
       "2   Antigua and Barbuda\n",
       "3                 India\n",
       "4             Indonesia\n",
       "5  United Arab Emirates\n",
       "6        United Kingdom\n",
       "7         United States"
      ]
     },
     "execution_count": 20,
     "metadata": {},
     "output_type": "execute_result"
    }
   ],
   "source": [
    "sql_statement = \"\"\"\n",
    "SELECT name FROM world\n",
    " WHERE name LIKE '_n%'\n",
    "\"\"\"\n",
    "\n",
    "pd.read_sql_query(sql_statement, engine_world)"
   ]
  },
  {
   "cell_type": "markdown",
   "metadata": {
    "id": "Qd7SL4YPBKcC"
   },
   "source": [
    "**Cvičení 7**: Kolik názvů států má právě 4 písmena? (řešení: 10)"
   ]
  },
  {
   "cell_type": "code",
   "execution_count": 21,
   "metadata": {
    "colab": {
     "base_uri": "https://localhost:8080/",
     "height": 49
    },
    "id": "W5RZDTaxBJT4",
    "outputId": "0f7e03fe-8046-4ac4-f445-64cd05ff877a"
   },
   "outputs": [
    {
     "data": {
      "text/html": [
       "<div>\n",
       "<style scoped>\n",
       "    .dataframe tbody tr th:only-of-type {\n",
       "        vertical-align: middle;\n",
       "    }\n",
       "\n",
       "    .dataframe tbody tr th {\n",
       "        vertical-align: top;\n",
       "    }\n",
       "\n",
       "    .dataframe thead th {\n",
       "        text-align: right;\n",
       "    }\n",
       "</style>\n",
       "<table border=\"1\" class=\"dataframe\">\n",
       "  <thead>\n",
       "    <tr style=\"text-align: right;\">\n",
       "      <th></th>\n",
       "      <th>name</th>\n",
       "    </tr>\n",
       "  </thead>\n",
       "  <tbody>\n",
       "  </tbody>\n",
       "</table>\n",
       "</div>"
      ],
      "text/plain": [
       "Empty DataFrame\n",
       "Columns: [name]\n",
       "Index: []"
      ]
     },
     "execution_count": 21,
     "metadata": {},
     "output_type": "execute_result"
    }
   ],
   "source": [
    "sql_statement = \"\"\"\n",
    "SELECT name FROM world\n",
    " WHERE name LIKE '___'\n",
    "\"\"\"\n",
    "\n",
    "pd.read_sql_query(sql_statement, engine_world)"
   ]
  },
  {
   "cell_type": "markdown",
   "metadata": {
    "id": "TZHXZ4kqBuK-"
   },
   "source": [
    "**Cvičení 8**: Hlavní město Luxembourg je Luxembourg. Kolik je států, kde se hlavní město jmenuje stejně jako stát sám? (řešení: čtyři) "
   ]
  },
  {
   "cell_type": "code",
   "execution_count": 22,
   "metadata": {
    "colab": {
     "base_uri": "https://localhost:8080/",
     "height": 423
    },
    "id": "9ALY12snBtbg",
    "outputId": "b27c2b4e-1a4e-435e-e216-7cb82be4aa26"
   },
   "outputs": [
    {
     "data": {
      "text/html": [
       "<div>\n",
       "<style scoped>\n",
       "    .dataframe tbody tr th:only-of-type {\n",
       "        vertical-align: middle;\n",
       "    }\n",
       "\n",
       "    .dataframe tbody tr th {\n",
       "        vertical-align: top;\n",
       "    }\n",
       "\n",
       "    .dataframe thead th {\n",
       "        text-align: right;\n",
       "    }\n",
       "</style>\n",
       "<table border=\"1\" class=\"dataframe\">\n",
       "  <thead>\n",
       "    <tr style=\"text-align: right;\">\n",
       "      <th></th>\n",
       "      <th>name</th>\n",
       "      <th>capital</th>\n",
       "      <th>continent</th>\n",
       "    </tr>\n",
       "  </thead>\n",
       "  <tbody>\n",
       "    <tr>\n",
       "      <th>0</th>\n",
       "      <td>Afghanistan</td>\n",
       "      <td>Kabul</td>\n",
       "      <td>Asia</td>\n",
       "    </tr>\n",
       "    <tr>\n",
       "      <th>1</th>\n",
       "      <td>Albania</td>\n",
       "      <td>Tirana</td>\n",
       "      <td>Europe</td>\n",
       "    </tr>\n",
       "    <tr>\n",
       "      <th>2</th>\n",
       "      <td>Algeria</td>\n",
       "      <td>Algiers</td>\n",
       "      <td>Africa</td>\n",
       "    </tr>\n",
       "    <tr>\n",
       "      <th>3</th>\n",
       "      <td>Andorra</td>\n",
       "      <td>Andorra la Vella</td>\n",
       "      <td>Europe</td>\n",
       "    </tr>\n",
       "    <tr>\n",
       "      <th>4</th>\n",
       "      <td>Angola</td>\n",
       "      <td>Luanda</td>\n",
       "      <td>Africa</td>\n",
       "    </tr>\n",
       "    <tr>\n",
       "      <th>...</th>\n",
       "      <td>...</td>\n",
       "      <td>...</td>\n",
       "      <td>...</td>\n",
       "    </tr>\n",
       "    <tr>\n",
       "      <th>190</th>\n",
       "      <td>Venezuela</td>\n",
       "      <td>Caracas</td>\n",
       "      <td>South America</td>\n",
       "    </tr>\n",
       "    <tr>\n",
       "      <th>191</th>\n",
       "      <td>Vietnam</td>\n",
       "      <td>Hanoi</td>\n",
       "      <td>Asia</td>\n",
       "    </tr>\n",
       "    <tr>\n",
       "      <th>192</th>\n",
       "      <td>Yemen</td>\n",
       "      <td>Sana‘a</td>\n",
       "      <td>Asia</td>\n",
       "    </tr>\n",
       "    <tr>\n",
       "      <th>193</th>\n",
       "      <td>Zambia</td>\n",
       "      <td>Lusaka</td>\n",
       "      <td>Africa</td>\n",
       "    </tr>\n",
       "    <tr>\n",
       "      <th>194</th>\n",
       "      <td>Zimbabwe</td>\n",
       "      <td>Harare</td>\n",
       "      <td>Africa</td>\n",
       "    </tr>\n",
       "  </tbody>\n",
       "</table>\n",
       "<p>195 rows × 3 columns</p>\n",
       "</div>"
      ],
      "text/plain": [
       "            name           capital      continent\n",
       "0    Afghanistan             Kabul           Asia\n",
       "1        Albania            Tirana         Europe\n",
       "2        Algeria           Algiers         Africa\n",
       "3        Andorra  Andorra la Vella         Europe\n",
       "4         Angola            Luanda         Africa\n",
       "..           ...               ...            ...\n",
       "190    Venezuela           Caracas  South America\n",
       "191      Vietnam             Hanoi           Asia\n",
       "192        Yemen            Sana‘a           Asia\n",
       "193       Zambia            Lusaka         Africa\n",
       "194     Zimbabwe            Harare         Africa\n",
       "\n",
       "[195 rows x 3 columns]"
      ]
     },
     "execution_count": 22,
     "metadata": {},
     "output_type": "execute_result"
    }
   ],
   "source": [
    "sql_statement = \"\"\"\n",
    "SELECT name, capital, continent FROM world\n",
    "\"\"\"\n",
    "\n",
    "pd.read_sql_query(sql_statement, engine_world)"
   ]
  },
  {
   "cell_type": "markdown",
   "metadata": {
    "id": "73Zs9g4RC3fS"
   },
   "source": [
    "### Vnořený SELECT (SELECT uvnitř SELECTu)\n",
    "\n",
    "Pro komplexní dotazy potřebujeme často porovnat hodnotu s hodnotou, kterou samotnou musíme z databáze získat. K tomu slouží možnost vnořit jeden SELECT do druhého.\n",
    "\n",
    "**Cvičení 0**: Které státy mají více obyvatel než Rusko? To už umíme - na dva dotazy... (povšimněte si použití ORDER - seřadí výsledek podle jednoho či více sloupců)"
   ]
  },
  {
   "cell_type": "code",
   "execution_count": 23,
   "metadata": {
    "colab": {
     "base_uri": "https://localhost:8080/",
     "height": 81
    },
    "id": "Zj6cM5_zEK2t",
    "outputId": "60370794-2b68-4772-99a6-87eb0b4d4d26"
   },
   "outputs": [
    {
     "data": {
      "text/html": [
       "<div>\n",
       "<style scoped>\n",
       "    .dataframe tbody tr th:only-of-type {\n",
       "        vertical-align: middle;\n",
       "    }\n",
       "\n",
       "    .dataframe tbody tr th {\n",
       "        vertical-align: top;\n",
       "    }\n",
       "\n",
       "    .dataframe thead th {\n",
       "        text-align: right;\n",
       "    }\n",
       "</style>\n",
       "<table border=\"1\" class=\"dataframe\">\n",
       "  <thead>\n",
       "    <tr style=\"text-align: right;\">\n",
       "      <th></th>\n",
       "      <th>name</th>\n",
       "      <th>population</th>\n",
       "    </tr>\n",
       "  </thead>\n",
       "  <tbody>\n",
       "    <tr>\n",
       "      <th>0</th>\n",
       "      <td>Russia</td>\n",
       "      <td>146000000</td>\n",
       "    </tr>\n",
       "  </tbody>\n",
       "</table>\n",
       "</div>"
      ],
      "text/plain": [
       "     name  population\n",
       "0  Russia   146000000"
      ]
     },
     "execution_count": 23,
     "metadata": {},
     "output_type": "execute_result"
    }
   ],
   "source": [
    "sql_statement = \"\"\"\n",
    "SELECT name, population FROM world\n",
    "      WHERE name='Russia'\n",
    "\"\"\"\n",
    "\n",
    "pd.read_sql_query(sql_statement, engine_world)"
   ]
  },
  {
   "cell_type": "code",
   "execution_count": 24,
   "metadata": {
    "colab": {
     "base_uri": "https://localhost:8080/",
     "height": 300
    },
    "id": "Bf2pzfX4EULT",
    "outputId": "01459e8a-2ff5-48e0-8b8b-cd8750a6136d"
   },
   "outputs": [
    {
     "data": {
      "text/html": [
       "<div>\n",
       "<style scoped>\n",
       "    .dataframe tbody tr th:only-of-type {\n",
       "        vertical-align: middle;\n",
       "    }\n",
       "\n",
       "    .dataframe tbody tr th {\n",
       "        vertical-align: top;\n",
       "    }\n",
       "\n",
       "    .dataframe thead th {\n",
       "        text-align: right;\n",
       "    }\n",
       "</style>\n",
       "<table border=\"1\" class=\"dataframe\">\n",
       "  <thead>\n",
       "    <tr style=\"text-align: right;\">\n",
       "      <th></th>\n",
       "      <th>name</th>\n",
       "    </tr>\n",
       "  </thead>\n",
       "  <tbody>\n",
       "    <tr>\n",
       "      <th>0</th>\n",
       "      <td>Bangladesh</td>\n",
       "    </tr>\n",
       "    <tr>\n",
       "      <th>1</th>\n",
       "      <td>Brazil</td>\n",
       "    </tr>\n",
       "    <tr>\n",
       "      <th>2</th>\n",
       "      <td>China</td>\n",
       "    </tr>\n",
       "    <tr>\n",
       "      <th>3</th>\n",
       "      <td>India</td>\n",
       "    </tr>\n",
       "    <tr>\n",
       "      <th>4</th>\n",
       "      <td>Indonesia</td>\n",
       "    </tr>\n",
       "    <tr>\n",
       "      <th>5</th>\n",
       "      <td>Nigeria</td>\n",
       "    </tr>\n",
       "    <tr>\n",
       "      <th>6</th>\n",
       "      <td>Pakistan</td>\n",
       "    </tr>\n",
       "    <tr>\n",
       "      <th>7</th>\n",
       "      <td>United States</td>\n",
       "    </tr>\n",
       "  </tbody>\n",
       "</table>\n",
       "</div>"
      ],
      "text/plain": [
       "            name\n",
       "0     Bangladesh\n",
       "1         Brazil\n",
       "2          China\n",
       "3          India\n",
       "4      Indonesia\n",
       "5        Nigeria\n",
       "6       Pakistan\n",
       "7  United States"
      ]
     },
     "execution_count": 24,
     "metadata": {},
     "output_type": "execute_result"
    }
   ],
   "source": [
    "sql_statement = \"\"\"\n",
    "SELECT name FROM world\n",
    "  WHERE population > 146000000\n",
    "  ORDER by name\n",
    "\"\"\"\n",
    "\n",
    "pd.read_sql_query(sql_statement, engine_world)"
   ]
  },
  {
   "cell_type": "markdown",
   "metadata": {
    "id": "Lw3FLYhJEe0s"
   },
   "source": [
    "Ale s vnořeným SELECT nám stačí dotaz jeden:"
   ]
  },
  {
   "cell_type": "code",
   "execution_count": 25,
   "metadata": {
    "colab": {
     "base_uri": "https://localhost:8080/",
     "height": 300
    },
    "id": "YQcFNxucD0Bu",
    "outputId": "5240e79b-736b-44b3-df21-74472a764848"
   },
   "outputs": [
    {
     "data": {
      "text/html": [
       "<div>\n",
       "<style scoped>\n",
       "    .dataframe tbody tr th:only-of-type {\n",
       "        vertical-align: middle;\n",
       "    }\n",
       "\n",
       "    .dataframe tbody tr th {\n",
       "        vertical-align: top;\n",
       "    }\n",
       "\n",
       "    .dataframe thead th {\n",
       "        text-align: right;\n",
       "    }\n",
       "</style>\n",
       "<table border=\"1\" class=\"dataframe\">\n",
       "  <thead>\n",
       "    <tr style=\"text-align: right;\">\n",
       "      <th></th>\n",
       "      <th>name</th>\n",
       "    </tr>\n",
       "  </thead>\n",
       "  <tbody>\n",
       "    <tr>\n",
       "      <th>0</th>\n",
       "      <td>Bangladesh</td>\n",
       "    </tr>\n",
       "    <tr>\n",
       "      <th>1</th>\n",
       "      <td>Brazil</td>\n",
       "    </tr>\n",
       "    <tr>\n",
       "      <th>2</th>\n",
       "      <td>China</td>\n",
       "    </tr>\n",
       "    <tr>\n",
       "      <th>3</th>\n",
       "      <td>India</td>\n",
       "    </tr>\n",
       "    <tr>\n",
       "      <th>4</th>\n",
       "      <td>Indonesia</td>\n",
       "    </tr>\n",
       "    <tr>\n",
       "      <th>5</th>\n",
       "      <td>Nigeria</td>\n",
       "    </tr>\n",
       "    <tr>\n",
       "      <th>6</th>\n",
       "      <td>Pakistan</td>\n",
       "    </tr>\n",
       "    <tr>\n",
       "      <th>7</th>\n",
       "      <td>United States</td>\n",
       "    </tr>\n",
       "  </tbody>\n",
       "</table>\n",
       "</div>"
      ],
      "text/plain": [
       "            name\n",
       "0     Bangladesh\n",
       "1         Brazil\n",
       "2          China\n",
       "3          India\n",
       "4      Indonesia\n",
       "5        Nigeria\n",
       "6       Pakistan\n",
       "7  United States"
      ]
     },
     "execution_count": 25,
     "metadata": {},
     "output_type": "execute_result"
    }
   ],
   "source": [
    "sql_statement = \"\"\"\n",
    "SELECT name FROM world\n",
    "  WHERE population >\n",
    "     (SELECT population FROM world\n",
    "      WHERE name='Russia')\n",
    "  ORDER BY name\n",
    "\"\"\"\n",
    "\n",
    "pd.read_sql_query(sql_statement, engine_world)"
   ]
  },
  {
   "cell_type": "markdown",
   "metadata": {
    "id": "1WLDmpn_FA2z"
   },
   "source": [
    "**Cvičení 1**: Vypište **evropské** země, které mají HDP na osobu vyšší než Dánsko. (řešení: je jich šest)"
   ]
  },
  {
   "cell_type": "code",
   "execution_count": 26,
   "metadata": {
    "colab": {
     "base_uri": "https://localhost:8080/",
     "height": 206
    },
    "id": "OMOeiVYDF7mQ",
    "outputId": "b0ec454d-9a89-419f-b3ce-d125e67821b0"
   },
   "outputs": [
    {
     "data": {
      "text/html": [
       "<div>\n",
       "<style scoped>\n",
       "    .dataframe tbody tr th:only-of-type {\n",
       "        vertical-align: middle;\n",
       "    }\n",
       "\n",
       "    .dataframe tbody tr th {\n",
       "        vertical-align: top;\n",
       "    }\n",
       "\n",
       "    .dataframe thead th {\n",
       "        text-align: right;\n",
       "    }\n",
       "</style>\n",
       "<table border=\"1\" class=\"dataframe\">\n",
       "  <thead>\n",
       "    <tr style=\"text-align: right;\">\n",
       "      <th></th>\n",
       "      <th>name</th>\n",
       "      <th>gdp/population</th>\n",
       "    </tr>\n",
       "  </thead>\n",
       "  <tbody>\n",
       "    <tr>\n",
       "      <th>0</th>\n",
       "      <td>Bangladesh</td>\n",
       "      <td>812</td>\n",
       "    </tr>\n",
       "    <tr>\n",
       "      <th>1</th>\n",
       "      <td>China</td>\n",
       "      <td>6121</td>\n",
       "    </tr>\n",
       "    <tr>\n",
       "      <th>2</th>\n",
       "      <td>India</td>\n",
       "      <td>1504</td>\n",
       "    </tr>\n",
       "    <tr>\n",
       "      <th>3</th>\n",
       "      <td>Indonesia</td>\n",
       "      <td>3482</td>\n",
       "    </tr>\n",
       "    <tr>\n",
       "      <th>4</th>\n",
       "      <td>Pakistan</td>\n",
       "      <td>1144</td>\n",
       "    </tr>\n",
       "  </tbody>\n",
       "</table>\n",
       "</div>"
      ],
      "text/plain": [
       "         name  gdp/population\n",
       "0  Bangladesh             812\n",
       "1       China            6121\n",
       "2       India            1504\n",
       "3   Indonesia            3482\n",
       "4    Pakistan            1144"
      ]
     },
     "execution_count": 26,
     "metadata": {},
     "output_type": "execute_result"
    }
   ],
   "source": [
    "sql_statement = \"\"\"\n",
    "SELECT name, gdp/population FROM world\n",
    "  WHERE continent = 'Asia' AND population >\n",
    "     (SELECT population FROM world\n",
    "      WHERE name='Russia')\n",
    "\"\"\"\n",
    "\n",
    "pd.read_sql_query(sql_statement, engine_world)"
   ]
  },
  {
   "cell_type": "markdown",
   "metadata": {
    "id": "VyUjCazFIoHC"
   },
   "source": [
    "Můžeme použít MAX, MIN, SUM, AVG, COUNT pro maximum, minimum, součet, průměr a počet hodnot. Zemi s nejvyšším počtem obyvatel tedy nalezneme následovně."
   ]
  },
  {
   "cell_type": "code",
   "execution_count": 27,
   "metadata": {
    "colab": {
     "base_uri": "https://localhost:8080/",
     "height": 81
    },
    "id": "mHf8x5HGJCAD",
    "outputId": "be175be2-bfe6-46a7-d526-3e07d40065bb"
   },
   "outputs": [
    {
     "data": {
      "text/html": [
       "<div>\n",
       "<style scoped>\n",
       "    .dataframe tbody tr th:only-of-type {\n",
       "        vertical-align: middle;\n",
       "    }\n",
       "\n",
       "    .dataframe tbody tr th {\n",
       "        vertical-align: top;\n",
       "    }\n",
       "\n",
       "    .dataframe thead th {\n",
       "        text-align: right;\n",
       "    }\n",
       "</style>\n",
       "<table border=\"1\" class=\"dataframe\">\n",
       "  <thead>\n",
       "    <tr style=\"text-align: right;\">\n",
       "      <th></th>\n",
       "      <th>name</th>\n",
       "      <th>population</th>\n",
       "    </tr>\n",
       "  </thead>\n",
       "  <tbody>\n",
       "    <tr>\n",
       "      <th>0</th>\n",
       "      <td>China</td>\n",
       "      <td>1365370000</td>\n",
       "    </tr>\n",
       "  </tbody>\n",
       "</table>\n",
       "</div>"
      ],
      "text/plain": [
       "    name  population\n",
       "0  China  1365370000"
      ]
     },
     "execution_count": 27,
     "metadata": {},
     "output_type": "execute_result"
    }
   ],
   "source": [
    "sql_statement = \"\"\"\n",
    "SELECT name, population\n",
    "  FROM world\n",
    "  WHERE population = (SELECT MAX(population) FROM world)\n",
    "\"\"\"\n",
    "\n",
    "pd.read_sql_query(sql_statement, engine_world)"
   ]
  },
  {
   "cell_type": "markdown",
   "metadata": {
    "id": "nqVlZD76Qap0"
   },
   "source": [
    "**Cvičení 2**: Nalezněte státy, které mají HDP vyšší než všechny státy v Evropě. (řešení: jsou tři)"
   ]
  },
  {
   "cell_type": "code",
   "execution_count": 28,
   "metadata": {
    "colab": {
     "base_uri": "https://localhost:8080/",
     "height": 112
    },
    "id": "YdaHptesQZo1",
    "outputId": "78eade0b-d80b-4698-8f69-c0a4c56f02f7"
   },
   "outputs": [
    {
     "data": {
      "text/html": [
       "<div>\n",
       "<style scoped>\n",
       "    .dataframe tbody tr th:only-of-type {\n",
       "        vertical-align: middle;\n",
       "    }\n",
       "\n",
       "    .dataframe tbody tr th {\n",
       "        vertical-align: top;\n",
       "    }\n",
       "\n",
       "    .dataframe thead th {\n",
       "        text-align: right;\n",
       "    }\n",
       "</style>\n",
       "<table border=\"1\" class=\"dataframe\">\n",
       "  <thead>\n",
       "    <tr style=\"text-align: right;\">\n",
       "      <th></th>\n",
       "      <th>name</th>\n",
       "      <th>gdp</th>\n",
       "    </tr>\n",
       "  </thead>\n",
       "  <tbody>\n",
       "    <tr>\n",
       "      <th>0</th>\n",
       "      <td>China</td>\n",
       "      <td>8358400000000</td>\n",
       "    </tr>\n",
       "    <tr>\n",
       "      <th>1</th>\n",
       "      <td>United States</td>\n",
       "      <td>16244600000000</td>\n",
       "    </tr>\n",
       "  </tbody>\n",
       "</table>\n",
       "</div>"
      ],
      "text/plain": [
       "            name             gdp\n",
       "0          China   8358400000000\n",
       "1  United States  16244600000000"
      ]
     },
     "execution_count": 28,
     "metadata": {},
     "output_type": "execute_result"
    }
   ],
   "source": [
    "sql_statement = \"\"\"\n",
    "SELECT name, gdp FROM world\n",
    "  WHERE gdp >\n",
    "     (SELECT gdp FROM world\n",
    "      WHERE name='Japan')\n",
    "\"\"\"\n",
    "\n",
    "pd.read_sql_query(sql_statement, engine_world)"
   ]
  },
  {
   "cell_type": "markdown",
   "metadata": {
    "id": "yRQlg8IxR5G4"
   },
   "source": [
    "### GROUP BY a HAVING\n",
    "\n",
    "Pokud chceme spočítat počet obyvatel Asie, můžeme použít `SUM` a `WHERE` z minulého oddílu."
   ]
  },
  {
   "cell_type": "code",
   "execution_count": 29,
   "metadata": {
    "colab": {
     "base_uri": "https://localhost:8080/",
     "height": 81
    },
    "id": "B6fMub1CXoGZ",
    "outputId": "f22756d7-6878-42cd-8bed-62c3fd0b2f9e"
   },
   "outputs": [
    {
     "data": {
      "text/html": [
       "<div>\n",
       "<style scoped>\n",
       "    .dataframe tbody tr th:only-of-type {\n",
       "        vertical-align: middle;\n",
       "    }\n",
       "\n",
       "    .dataframe tbody tr th {\n",
       "        vertical-align: top;\n",
       "    }\n",
       "\n",
       "    .dataframe thead th {\n",
       "        text-align: right;\n",
       "    }\n",
       "</style>\n",
       "<table border=\"1\" class=\"dataframe\">\n",
       "  <thead>\n",
       "    <tr style=\"text-align: right;\">\n",
       "      <th></th>\n",
       "      <th>continent</th>\n",
       "      <th>SUM(population)</th>\n",
       "    </tr>\n",
       "  </thead>\n",
       "  <tbody>\n",
       "    <tr>\n",
       "      <th>0</th>\n",
       "      <td>Asia</td>\n",
       "      <td>4342955676</td>\n",
       "    </tr>\n",
       "  </tbody>\n",
       "</table>\n",
       "</div>"
      ],
      "text/plain": [
       "  continent  SUM(population)\n",
       "0      Asia       4342955676"
      ]
     },
     "execution_count": 29,
     "metadata": {},
     "output_type": "execute_result"
    }
   ],
   "source": [
    "sql_statement = \"\"\"\n",
    "SELECT continent, SUM(population)\n",
    "  FROM world\n",
    "  WHERE continent = \"Asia\"\n",
    "\"\"\"\n",
    "\n",
    "pd.read_sql_query(sql_statement, engine_world)"
   ]
  },
  {
   "cell_type": "markdown",
   "metadata": {
    "id": "HswaetI-Yh4P"
   },
   "source": [
    "Přehled všech kontinentů můžeme dostat pomocí funkce `DISTINCT` (v Pythonu existuje podobné `unique`)."
   ]
  },
  {
   "cell_type": "code",
   "execution_count": 30,
   "metadata": {
    "colab": {
     "base_uri": "https://localhost:8080/",
     "height": 300
    },
    "id": "wvw2ksV8Yf2U",
    "outputId": "1452a188-4efd-4ac0-8ca4-3b4622195bba"
   },
   "outputs": [
    {
     "data": {
      "text/html": [
       "<div>\n",
       "<style scoped>\n",
       "    .dataframe tbody tr th:only-of-type {\n",
       "        vertical-align: middle;\n",
       "    }\n",
       "\n",
       "    .dataframe tbody tr th {\n",
       "        vertical-align: top;\n",
       "    }\n",
       "\n",
       "    .dataframe thead th {\n",
       "        text-align: right;\n",
       "    }\n",
       "</style>\n",
       "<table border=\"1\" class=\"dataframe\">\n",
       "  <thead>\n",
       "    <tr style=\"text-align: right;\">\n",
       "      <th></th>\n",
       "      <th>continent</th>\n",
       "    </tr>\n",
       "  </thead>\n",
       "  <tbody>\n",
       "    <tr>\n",
       "      <th>0</th>\n",
       "      <td>Africa</td>\n",
       "    </tr>\n",
       "    <tr>\n",
       "      <th>1</th>\n",
       "      <td>Asia</td>\n",
       "    </tr>\n",
       "    <tr>\n",
       "      <th>2</th>\n",
       "      <td>Caribbean</td>\n",
       "    </tr>\n",
       "    <tr>\n",
       "      <th>3</th>\n",
       "      <td>Eurasia</td>\n",
       "    </tr>\n",
       "    <tr>\n",
       "      <th>4</th>\n",
       "      <td>Europe</td>\n",
       "    </tr>\n",
       "    <tr>\n",
       "      <th>5</th>\n",
       "      <td>North America</td>\n",
       "    </tr>\n",
       "    <tr>\n",
       "      <th>6</th>\n",
       "      <td>Oceania</td>\n",
       "    </tr>\n",
       "    <tr>\n",
       "      <th>7</th>\n",
       "      <td>South America</td>\n",
       "    </tr>\n",
       "  </tbody>\n",
       "</table>\n",
       "</div>"
      ],
      "text/plain": [
       "       continent\n",
       "0         Africa\n",
       "1           Asia\n",
       "2      Caribbean\n",
       "3        Eurasia\n",
       "4         Europe\n",
       "5  North America\n",
       "6        Oceania\n",
       "7  South America"
      ]
     },
     "execution_count": 30,
     "metadata": {},
     "output_type": "execute_result"
    }
   ],
   "source": [
    "sql_statement = \"\"\"\n",
    "SELECT DISTINCT(continent)\n",
    "  FROM world\n",
    "\"\"\"\n",
    "\n",
    "pd.read_sql_query(sql_statement, engine_world)"
   ]
  },
  {
   "cell_type": "markdown",
   "metadata": {
    "id": "JEY_6UV9ZM2c"
   },
   "source": [
    "Jak to ale udělat, abychom dostali počet obyvatel každého kontinentu a nemuseli to dělat naosmkrát? Řešení je stejně jako v Pandas použití `GROUP BY` i s podobnout syntaxí."
   ]
  },
  {
   "cell_type": "code",
   "execution_count": 31,
   "metadata": {
    "colab": {
     "base_uri": "https://localhost:8080/",
     "height": 300
    },
    "id": "R6TGz3niZfD9",
    "outputId": "05c7268e-5a81-433a-a950-9376668da7aa"
   },
   "outputs": [
    {
     "data": {
      "text/html": [
       "<div>\n",
       "<style scoped>\n",
       "    .dataframe tbody tr th:only-of-type {\n",
       "        vertical-align: middle;\n",
       "    }\n",
       "\n",
       "    .dataframe tbody tr th {\n",
       "        vertical-align: top;\n",
       "    }\n",
       "\n",
       "    .dataframe thead th {\n",
       "        text-align: right;\n",
       "    }\n",
       "</style>\n",
       "<table border=\"1\" class=\"dataframe\">\n",
       "  <thead>\n",
       "    <tr style=\"text-align: right;\">\n",
       "      <th></th>\n",
       "      <th>continent</th>\n",
       "      <th>SUM(population)</th>\n",
       "    </tr>\n",
       "  </thead>\n",
       "  <tbody>\n",
       "    <tr>\n",
       "      <th>0</th>\n",
       "      <td>Africa</td>\n",
       "      <td>1016091005</td>\n",
       "    </tr>\n",
       "    <tr>\n",
       "      <th>1</th>\n",
       "      <td>Asia</td>\n",
       "      <td>4342955676</td>\n",
       "    </tr>\n",
       "    <tr>\n",
       "      <th>2</th>\n",
       "      <td>Caribbean</td>\n",
       "      <td>36149204</td>\n",
       "    </tr>\n",
       "    <tr>\n",
       "      <th>3</th>\n",
       "      <td>Eurasia</td>\n",
       "      <td>149017400</td>\n",
       "    </tr>\n",
       "    <tr>\n",
       "      <th>4</th>\n",
       "      <td>Europe</td>\n",
       "      <td>610261850</td>\n",
       "    </tr>\n",
       "    <tr>\n",
       "      <th>5</th>\n",
       "      <td>North America</td>\n",
       "      <td>518755156</td>\n",
       "    </tr>\n",
       "    <tr>\n",
       "      <th>6</th>\n",
       "      <td>Oceania</td>\n",
       "      <td>37783477</td>\n",
       "    </tr>\n",
       "    <tr>\n",
       "      <th>7</th>\n",
       "      <td>South America</td>\n",
       "      <td>407618970</td>\n",
       "    </tr>\n",
       "  </tbody>\n",
       "</table>\n",
       "</div>"
      ],
      "text/plain": [
       "       continent  SUM(population)\n",
       "0         Africa       1016091005\n",
       "1           Asia       4342955676\n",
       "2      Caribbean         36149204\n",
       "3        Eurasia        149017400\n",
       "4         Europe        610261850\n",
       "5  North America        518755156\n",
       "6        Oceania         37783477\n",
       "7  South America        407618970"
      ]
     },
     "execution_count": 31,
     "metadata": {},
     "output_type": "execute_result"
    }
   ],
   "source": [
    "sql_statement = \"\"\"\n",
    "SELECT continent, SUM(population)\n",
    "  FROM world\n",
    "  GROUP BY continent\n",
    "\"\"\"\n",
    "\n",
    "pd.read_sql_query(sql_statement, engine_world)"
   ]
  },
  {
   "cell_type": "markdown",
   "metadata": {
    "id": "y7eXNkquZssS"
   },
   "source": [
    "Pokud bychom chtěli vyloučit malé kontinenty jako Oceania a Caribbean, filtrování výsledků po `GROUP BY` se provádí pomocí `HAVING`, tedy například..."
   ]
  },
  {
   "cell_type": "code",
   "execution_count": 32,
   "metadata": {
    "colab": {
     "base_uri": "https://localhost:8080/",
     "height": 237
    },
    "id": "99FO-vvLaF9b",
    "outputId": "9ba9d530-0742-4ff9-e2f1-2f0226c8c0b3"
   },
   "outputs": [
    {
     "data": {
      "text/html": [
       "<div>\n",
       "<style scoped>\n",
       "    .dataframe tbody tr th:only-of-type {\n",
       "        vertical-align: middle;\n",
       "    }\n",
       "\n",
       "    .dataframe tbody tr th {\n",
       "        vertical-align: top;\n",
       "    }\n",
       "\n",
       "    .dataframe thead th {\n",
       "        text-align: right;\n",
       "    }\n",
       "</style>\n",
       "<table border=\"1\" class=\"dataframe\">\n",
       "  <thead>\n",
       "    <tr style=\"text-align: right;\">\n",
       "      <th></th>\n",
       "      <th>continent</th>\n",
       "      <th>SUM(population)</th>\n",
       "    </tr>\n",
       "  </thead>\n",
       "  <tbody>\n",
       "    <tr>\n",
       "      <th>0</th>\n",
       "      <td>Africa</td>\n",
       "      <td>1016091005</td>\n",
       "    </tr>\n",
       "    <tr>\n",
       "      <th>1</th>\n",
       "      <td>Asia</td>\n",
       "      <td>4342955676</td>\n",
       "    </tr>\n",
       "    <tr>\n",
       "      <th>2</th>\n",
       "      <td>Eurasia</td>\n",
       "      <td>149017400</td>\n",
       "    </tr>\n",
       "    <tr>\n",
       "      <th>3</th>\n",
       "      <td>Europe</td>\n",
       "      <td>610261850</td>\n",
       "    </tr>\n",
       "    <tr>\n",
       "      <th>4</th>\n",
       "      <td>North America</td>\n",
       "      <td>518755156</td>\n",
       "    </tr>\n",
       "    <tr>\n",
       "      <th>5</th>\n",
       "      <td>South America</td>\n",
       "      <td>407618970</td>\n",
       "    </tr>\n",
       "  </tbody>\n",
       "</table>\n",
       "</div>"
      ],
      "text/plain": [
       "       continent  SUM(population)\n",
       "0         Africa       1016091005\n",
       "1           Asia       4342955676\n",
       "2        Eurasia        149017400\n",
       "3         Europe        610261850\n",
       "4  North America        518755156\n",
       "5  South America        407618970"
      ]
     },
     "execution_count": 32,
     "metadata": {},
     "output_type": "execute_result"
    }
   ],
   "source": [
    "sql_statement = \"\"\"\n",
    "SELECT continent, SUM(population)\n",
    "  FROM world\n",
    "  GROUP BY continent\n",
    "  HAVING SUM(population) > 100000000\n",
    "\"\"\"\n",
    "\n",
    "pd.read_sql_query(sql_statement, engine_world)"
   ]
  },
  {
   "cell_type": "markdown",
   "metadata": {
    "id": "nTFMvRFpaVPW"
   },
   "source": [
    "**Cvičení 1:** Kolik je pro každý kontinent států v databázi? Použijte funkci `COUNT` (řešení: např. pro Evropu 44)"
   ]
  },
  {
   "cell_type": "code",
   "execution_count": 33,
   "metadata": {
    "colab": {
     "base_uri": "https://localhost:8080/",
     "height": 300
    },
    "id": "DugLTajJaok0",
    "outputId": "fe5b1146-47f2-49a9-d028-3ec8a2432f50"
   },
   "outputs": [
    {
     "data": {
      "text/html": [
       "<div>\n",
       "<style scoped>\n",
       "    .dataframe tbody tr th:only-of-type {\n",
       "        vertical-align: middle;\n",
       "    }\n",
       "\n",
       "    .dataframe tbody tr th {\n",
       "        vertical-align: top;\n",
       "    }\n",
       "\n",
       "    .dataframe thead th {\n",
       "        text-align: right;\n",
       "    }\n",
       "</style>\n",
       "<table border=\"1\" class=\"dataframe\">\n",
       "  <thead>\n",
       "    <tr style=\"text-align: right;\">\n",
       "      <th></th>\n",
       "      <th>continent</th>\n",
       "      <th>COUNT(name)</th>\n",
       "    </tr>\n",
       "  </thead>\n",
       "  <tbody>\n",
       "    <tr>\n",
       "      <th>0</th>\n",
       "      <td>Africa</td>\n",
       "      <td>29</td>\n",
       "    </tr>\n",
       "    <tr>\n",
       "      <th>1</th>\n",
       "      <td>Asia</td>\n",
       "      <td>26</td>\n",
       "    </tr>\n",
       "    <tr>\n",
       "      <th>2</th>\n",
       "      <td>Caribbean</td>\n",
       "      <td>2</td>\n",
       "    </tr>\n",
       "    <tr>\n",
       "      <th>3</th>\n",
       "      <td>Eurasia</td>\n",
       "      <td>1</td>\n",
       "    </tr>\n",
       "    <tr>\n",
       "      <th>4</th>\n",
       "      <td>Europe</td>\n",
       "      <td>14</td>\n",
       "    </tr>\n",
       "    <tr>\n",
       "      <th>5</th>\n",
       "      <td>North America</td>\n",
       "      <td>4</td>\n",
       "    </tr>\n",
       "    <tr>\n",
       "      <th>6</th>\n",
       "      <td>Oceania</td>\n",
       "      <td>1</td>\n",
       "    </tr>\n",
       "    <tr>\n",
       "      <th>7</th>\n",
       "      <td>South America</td>\n",
       "      <td>8</td>\n",
       "    </tr>\n",
       "  </tbody>\n",
       "</table>\n",
       "</div>"
      ],
      "text/plain": [
       "       continent  COUNT(name)\n",
       "0         Africa           29\n",
       "1           Asia           26\n",
       "2      Caribbean            2\n",
       "3        Eurasia            1\n",
       "4         Europe           14\n",
       "5  North America            4\n",
       "6        Oceania            1\n",
       "7  South America            8"
      ]
     },
     "execution_count": 33,
     "metadata": {},
     "output_type": "execute_result"
    }
   ],
   "source": [
    "sql_statement = \"\"\"\n",
    "SELECT continent, COUNT(name)\n",
    "  FROM world\n",
    "  WHERE population > 10000000\n",
    "  GROUP BY continent\n",
    "\"\"\"\n",
    "\n",
    "pd.read_sql_query(sql_statement, engine_world)"
   ]
  },
  {
   "cell_type": "markdown",
   "metadata": {
    "id": "n86H7VCwby0Y"
   },
   "source": [
    "**Cvičení 2**: Některé státy jsou velmi malé. Zkuste modifikovat kód na Cvičení 1 tak, aby počítal jen státy, které mají alespoň 10 milionů obyvatel. Použije se tu WHERE nebo HAVING, a proč? (řešení: např. pro Evropu 14)"
   ]
  },
  {
   "cell_type": "code",
   "execution_count": 34,
   "metadata": {
    "colab": {
     "base_uri": "https://localhost:8080/",
     "height": 300
    },
    "id": "q9JS49NZbuN6",
    "outputId": "fe160bba-d066-4d4b-9e5d-71b888ce7079"
   },
   "outputs": [
    {
     "data": {
      "text/html": [
       "<div>\n",
       "<style scoped>\n",
       "    .dataframe tbody tr th:only-of-type {\n",
       "        vertical-align: middle;\n",
       "    }\n",
       "\n",
       "    .dataframe tbody tr th {\n",
       "        vertical-align: top;\n",
       "    }\n",
       "\n",
       "    .dataframe thead th {\n",
       "        text-align: right;\n",
       "    }\n",
       "</style>\n",
       "<table border=\"1\" class=\"dataframe\">\n",
       "  <thead>\n",
       "    <tr style=\"text-align: right;\">\n",
       "      <th></th>\n",
       "      <th>continent</th>\n",
       "      <th>SUM(population)</th>\n",
       "    </tr>\n",
       "  </thead>\n",
       "  <tbody>\n",
       "    <tr>\n",
       "      <th>0</th>\n",
       "      <td>Africa</td>\n",
       "      <td>1016091005</td>\n",
       "    </tr>\n",
       "    <tr>\n",
       "      <th>1</th>\n",
       "      <td>Asia</td>\n",
       "      <td>4342955676</td>\n",
       "    </tr>\n",
       "    <tr>\n",
       "      <th>2</th>\n",
       "      <td>Caribbean</td>\n",
       "      <td>36149204</td>\n",
       "    </tr>\n",
       "    <tr>\n",
       "      <th>3</th>\n",
       "      <td>Eurasia</td>\n",
       "      <td>149017400</td>\n",
       "    </tr>\n",
       "    <tr>\n",
       "      <th>4</th>\n",
       "      <td>Europe</td>\n",
       "      <td>610261850</td>\n",
       "    </tr>\n",
       "    <tr>\n",
       "      <th>5</th>\n",
       "      <td>North America</td>\n",
       "      <td>518755156</td>\n",
       "    </tr>\n",
       "    <tr>\n",
       "      <th>6</th>\n",
       "      <td>Oceania</td>\n",
       "      <td>37783477</td>\n",
       "    </tr>\n",
       "    <tr>\n",
       "      <th>7</th>\n",
       "      <td>South America</td>\n",
       "      <td>407618970</td>\n",
       "    </tr>\n",
       "  </tbody>\n",
       "</table>\n",
       "</div>"
      ],
      "text/plain": [
       "       continent  SUM(population)\n",
       "0         Africa       1016091005\n",
       "1           Asia       4342955676\n",
       "2      Caribbean         36149204\n",
       "3        Eurasia        149017400\n",
       "4         Europe        610261850\n",
       "5  North America        518755156\n",
       "6        Oceania         37783477\n",
       "7  South America        407618970"
      ]
     },
     "execution_count": 34,
     "metadata": {},
     "output_type": "execute_result"
    }
   ],
   "source": [
    "sql_statement = \"\"\"\n",
    "SELECT continent, SUM(population)\n",
    "  FROM world\n",
    "  GROUP BY continent\n",
    "\"\"\"\n",
    "\n",
    "pd.read_sql_query(sql_statement, engine_world)"
   ]
  },
  {
   "cell_type": "markdown",
   "metadata": {
    "id": "G2iWFUTCcegN"
   },
   "source": [
    "## JOIN\n",
    "\n",
    "Spojování tabulek je velmi podobné jako v Pandas. Vraťme se nyní k databázi `movie`. Obsahuje tři tabulky, které jsou propojené následovně...\n",
    "\n",
    "![](https://sqlzoo.net/w/images/1/10/Movie-er.png)\n",
    "\n",
    "**Cvičení 0**: Vypište všechny herce, kteří hráli ve filmu Vetřelec (Alien)."
   ]
  },
  {
   "cell_type": "code",
   "execution_count": 35,
   "metadata": {
    "colab": {
     "base_uri": "https://localhost:8080/",
     "height": 269
    },
    "id": "LP7-UylAdxcv",
    "outputId": "a6c35c9f-9211-4ee9-822c-39e8fd0909f2"
   },
   "outputs": [
    {
     "data": {
      "text/html": [
       "<div>\n",
       "<style scoped>\n",
       "    .dataframe tbody tr th:only-of-type {\n",
       "        vertical-align: middle;\n",
       "    }\n",
       "\n",
       "    .dataframe tbody tr th {\n",
       "        vertical-align: top;\n",
       "    }\n",
       "\n",
       "    .dataframe thead th {\n",
       "        text-align: right;\n",
       "    }\n",
       "</style>\n",
       "<table border=\"1\" class=\"dataframe\">\n",
       "  <thead>\n",
       "    <tr style=\"text-align: right;\">\n",
       "      <th></th>\n",
       "      <th>name</th>\n",
       "    </tr>\n",
       "  </thead>\n",
       "  <tbody>\n",
       "    <tr>\n",
       "      <th>0</th>\n",
       "      <td>John Hurt</td>\n",
       "    </tr>\n",
       "    <tr>\n",
       "      <th>1</th>\n",
       "      <td>Sigourney Weaver</td>\n",
       "    </tr>\n",
       "    <tr>\n",
       "      <th>2</th>\n",
       "      <td>Yaphet Kotto</td>\n",
       "    </tr>\n",
       "    <tr>\n",
       "      <th>3</th>\n",
       "      <td>Harry Dean Stanton</td>\n",
       "    </tr>\n",
       "    <tr>\n",
       "      <th>4</th>\n",
       "      <td>Ian Holm</td>\n",
       "    </tr>\n",
       "    <tr>\n",
       "      <th>5</th>\n",
       "      <td>Tom Skerritt</td>\n",
       "    </tr>\n",
       "    <tr>\n",
       "      <th>6</th>\n",
       "      <td>Veronica Cartwright</td>\n",
       "    </tr>\n",
       "  </tbody>\n",
       "</table>\n",
       "</div>"
      ],
      "text/plain": [
       "                  name\n",
       "0            John Hurt\n",
       "1     Sigourney Weaver\n",
       "2         Yaphet Kotto\n",
       "3   Harry Dean Stanton\n",
       "4             Ian Holm\n",
       "5         Tom Skerritt\n",
       "6  Veronica Cartwright"
      ]
     },
     "execution_count": 35,
     "metadata": {},
     "output_type": "execute_result"
    }
   ],
   "source": [
    "sql_statement = \"\"\"\n",
    "SELECT actor.name\n",
    "  FROM movie\n",
    "  JOIN casting ON movie.id = casting.movieid\n",
    "  JOIN actor ON actor.id = casting.actorid\n",
    "  WHERE title = 'Alien'\n",
    "\"\"\"\n",
    "\n",
    "pd.read_sql_query(sql_statement, engine)"
   ]
  },
  {
   "cell_type": "markdown",
   "metadata": {
    "id": "sOn9XEOAgsOw"
   },
   "source": [
    "**Cvičení 1**: Vypište všechny filmy, v kterých hrála 'Hilary Swank'. (řešení: je jich 16)"
   ]
  },
  {
   "cell_type": "code",
   "execution_count": 36,
   "metadata": {
    "colab": {
     "base_uri": "https://localhost:8080/",
     "height": 269
    },
    "id": "NEVKGZgPhYZv",
    "outputId": "3371bf4a-baf8-4695-b91b-5d291bb54398"
   },
   "outputs": [
    {
     "data": {
      "text/html": [
       "<div>\n",
       "<style scoped>\n",
       "    .dataframe tbody tr th:only-of-type {\n",
       "        vertical-align: middle;\n",
       "    }\n",
       "\n",
       "    .dataframe tbody tr th {\n",
       "        vertical-align: top;\n",
       "    }\n",
       "\n",
       "    .dataframe thead th {\n",
       "        text-align: right;\n",
       "    }\n",
       "</style>\n",
       "<table border=\"1\" class=\"dataframe\">\n",
       "  <thead>\n",
       "    <tr style=\"text-align: right;\">\n",
       "      <th></th>\n",
       "      <th>name</th>\n",
       "    </tr>\n",
       "  </thead>\n",
       "  <tbody>\n",
       "    <tr>\n",
       "      <th>0</th>\n",
       "      <td>John Hurt</td>\n",
       "    </tr>\n",
       "    <tr>\n",
       "      <th>1</th>\n",
       "      <td>Sigourney Weaver</td>\n",
       "    </tr>\n",
       "    <tr>\n",
       "      <th>2</th>\n",
       "      <td>Yaphet Kotto</td>\n",
       "    </tr>\n",
       "    <tr>\n",
       "      <th>3</th>\n",
       "      <td>Harry Dean Stanton</td>\n",
       "    </tr>\n",
       "    <tr>\n",
       "      <th>4</th>\n",
       "      <td>Ian Holm</td>\n",
       "    </tr>\n",
       "    <tr>\n",
       "      <th>5</th>\n",
       "      <td>Tom Skerritt</td>\n",
       "    </tr>\n",
       "    <tr>\n",
       "      <th>6</th>\n",
       "      <td>Veronica Cartwright</td>\n",
       "    </tr>\n",
       "  </tbody>\n",
       "</table>\n",
       "</div>"
      ],
      "text/plain": [
       "                  name\n",
       "0            John Hurt\n",
       "1     Sigourney Weaver\n",
       "2         Yaphet Kotto\n",
       "3   Harry Dean Stanton\n",
       "4             Ian Holm\n",
       "5         Tom Skerritt\n",
       "6  Veronica Cartwright"
      ]
     },
     "execution_count": 36,
     "metadata": {},
     "output_type": "execute_result"
    }
   ],
   "source": [
    "sql_statement = \"\"\"\n",
    "SELECT actor.name\n",
    "  FROM movie\n",
    "  JOIN casting ON movie.id = casting.movieid\n",
    "  JOIN actor ON actor.id = casting.actorid\n",
    "  WHERE title = 'Alien'\n",
    "\"\"\"\n",
    "\n",
    "pd.read_sql_query(sql_statement, engine)"
   ]
  },
  {
   "cell_type": "markdown",
   "metadata": {
    "id": "WxeeYnGmjPSR"
   },
   "source": [
    "**Cvičení 2**: Vypište všechny filmy, v kterých hrál 'Brad Pitt', ale ne v hlavních dvou rolích (`ord` v casting listu je větší než 2). (řešení: je jich 12)"
   ]
  },
  {
   "cell_type": "code",
   "execution_count": 37,
   "metadata": {
    "colab": {
     "base_uri": "https://localhost:8080/",
     "height": 269
    },
    "id": "QujMB7RLjlPc",
    "outputId": "1e4a27f4-9c7d-42dd-926f-f7c96b34eaf9"
   },
   "outputs": [
    {
     "data": {
      "text/html": [
       "<div>\n",
       "<style scoped>\n",
       "    .dataframe tbody tr th:only-of-type {\n",
       "        vertical-align: middle;\n",
       "    }\n",
       "\n",
       "    .dataframe tbody tr th {\n",
       "        vertical-align: top;\n",
       "    }\n",
       "\n",
       "    .dataframe thead th {\n",
       "        text-align: right;\n",
       "    }\n",
       "</style>\n",
       "<table border=\"1\" class=\"dataframe\">\n",
       "  <thead>\n",
       "    <tr style=\"text-align: right;\">\n",
       "      <th></th>\n",
       "      <th>name</th>\n",
       "    </tr>\n",
       "  </thead>\n",
       "  <tbody>\n",
       "    <tr>\n",
       "      <th>0</th>\n",
       "      <td>John Hurt</td>\n",
       "    </tr>\n",
       "    <tr>\n",
       "      <th>1</th>\n",
       "      <td>Sigourney Weaver</td>\n",
       "    </tr>\n",
       "    <tr>\n",
       "      <th>2</th>\n",
       "      <td>Yaphet Kotto</td>\n",
       "    </tr>\n",
       "    <tr>\n",
       "      <th>3</th>\n",
       "      <td>Harry Dean Stanton</td>\n",
       "    </tr>\n",
       "    <tr>\n",
       "      <th>4</th>\n",
       "      <td>Ian Holm</td>\n",
       "    </tr>\n",
       "    <tr>\n",
       "      <th>5</th>\n",
       "      <td>Tom Skerritt</td>\n",
       "    </tr>\n",
       "    <tr>\n",
       "      <th>6</th>\n",
       "      <td>Veronica Cartwright</td>\n",
       "    </tr>\n",
       "  </tbody>\n",
       "</table>\n",
       "</div>"
      ],
      "text/plain": [
       "                  name\n",
       "0            John Hurt\n",
       "1     Sigourney Weaver\n",
       "2         Yaphet Kotto\n",
       "3   Harry Dean Stanton\n",
       "4             Ian Holm\n",
       "5         Tom Skerritt\n",
       "6  Veronica Cartwright"
      ]
     },
     "execution_count": 37,
     "metadata": {},
     "output_type": "execute_result"
    }
   ],
   "source": [
    "sql_statement = \"\"\"\n",
    "SELECT actor.name\n",
    "  FROM movie\n",
    "  JOIN casting ON movie.id = casting.movieid\n",
    "  JOIN actor ON actor.id = casting.actorid\n",
    "  WHERE title = 'Alien'\n",
    "\"\"\"\n",
    "\n",
    "pd.read_sql_query(sql_statement, engine)"
   ]
  },
  {
   "cell_type": "markdown",
   "metadata": {
    "id": "9k1G9iANlOSn"
   },
   "source": [
    "**Cvičení 3**: Vypište název filmů, které byly uvedeny do kin v roce 1962, společně s hlavní hvězdou (`ord` v castingu je rovno jedné). (řešení: je jich pět, hlavní roli v Jak zabít moudivláčka hrál Gregory Peck)"
   ]
  },
  {
   "cell_type": "code",
   "execution_count": 38,
   "metadata": {
    "colab": {
     "base_uri": "https://localhost:8080/",
     "height": 269
    },
    "id": "5z9BeDyrlEG7",
    "outputId": "adb3d0fa-0cf1-4ab7-f025-b0bc4337df38"
   },
   "outputs": [
    {
     "data": {
      "text/html": [
       "<div>\n",
       "<style scoped>\n",
       "    .dataframe tbody tr th:only-of-type {\n",
       "        vertical-align: middle;\n",
       "    }\n",
       "\n",
       "    .dataframe tbody tr th {\n",
       "        vertical-align: top;\n",
       "    }\n",
       "\n",
       "    .dataframe thead th {\n",
       "        text-align: right;\n",
       "    }\n",
       "</style>\n",
       "<table border=\"1\" class=\"dataframe\">\n",
       "  <thead>\n",
       "    <tr style=\"text-align: right;\">\n",
       "      <th></th>\n",
       "      <th>name</th>\n",
       "    </tr>\n",
       "  </thead>\n",
       "  <tbody>\n",
       "    <tr>\n",
       "      <th>0</th>\n",
       "      <td>John Hurt</td>\n",
       "    </tr>\n",
       "    <tr>\n",
       "      <th>1</th>\n",
       "      <td>Sigourney Weaver</td>\n",
       "    </tr>\n",
       "    <tr>\n",
       "      <th>2</th>\n",
       "      <td>Yaphet Kotto</td>\n",
       "    </tr>\n",
       "    <tr>\n",
       "      <th>3</th>\n",
       "      <td>Harry Dean Stanton</td>\n",
       "    </tr>\n",
       "    <tr>\n",
       "      <th>4</th>\n",
       "      <td>Ian Holm</td>\n",
       "    </tr>\n",
       "    <tr>\n",
       "      <th>5</th>\n",
       "      <td>Tom Skerritt</td>\n",
       "    </tr>\n",
       "    <tr>\n",
       "      <th>6</th>\n",
       "      <td>Veronica Cartwright</td>\n",
       "    </tr>\n",
       "  </tbody>\n",
       "</table>\n",
       "</div>"
      ],
      "text/plain": [
       "                  name\n",
       "0            John Hurt\n",
       "1     Sigourney Weaver\n",
       "2         Yaphet Kotto\n",
       "3   Harry Dean Stanton\n",
       "4             Ian Holm\n",
       "5         Tom Skerritt\n",
       "6  Veronica Cartwright"
      ]
     },
     "execution_count": 38,
     "metadata": {},
     "output_type": "execute_result"
    }
   ],
   "source": [
    "sql_statement = \"\"\"\n",
    "SELECT actor.name\n",
    "  FROM movie\n",
    "  JOIN casting ON movie.id = casting.movieid\n",
    "  JOIN actor ON actor.id = casting.actorid\n",
    "  WHERE title = 'Alien'\n",
    "\"\"\"\n",
    "\n",
    "pd.read_sql_query(sql_statement, engine)"
   ]
  },
  {
   "cell_type": "markdown",
   "metadata": {
    "id": "2ytCkUfL9VAZ"
   },
   "source": [
    "#### Obtížnější cvičení:\n",
    "\n",
    "**Cvičení 4:** Vypište všechny filmy, v kterých hrála Julie Andrews, a ke každému z nich uveďte i herce v hlavní roli. \n",
    "\n",
    "**Cviření 5:** Najděte všechny herce, kteří hráli alespoň patnáctkrát v hlavní roli.\n",
    "\n",
    "**Cvičení 6:** Vybište všechny filmy z roku 1978 seřazené podle počtu herců, kteří v nich hráli. V případě rovnosti řaďte podle názvu filmu.\n",
    "\n",
    "**Cvičení 7:** Nalezněte všechny herce, kteří hráli ve filmu, v kterém hrál též Art Garfunkel."
   ]
  },
  {
   "cell_type": "markdown",
   "metadata": {
    "id": "uhMrj5qQmQjc"
   },
   "source": [
    "## Závěr"
   ]
  },
  {
   "cell_type": "markdown",
   "metadata": {
    "id": "VPc8u1y7mTx9"
   },
   "source": [
    "* Pokud se chcete dozvědět o SQL více, velmi doporučuji stránku https://sqlzoo.net/, z které jsem převzal databáze a většinu cvičení.\n",
    "\n",
    "* Většina databázových serverů není z bezpečnostních důvodů veřejně dostupných a přistupujete k nim skrz nějakou API službu (o těch si budeme vykládat příště). Pokud byste si ale chtěli vyzkoušet, jaké to je připojit se ke vzdálenému serveru, jeden z mála dostupných je [Ensembl](https://plants.ensembl.org/info/data/mysql.html) poskytující genomická data.\n",
    "\n",
    "* Možná vám přišlo, že dnešní SQL lekce byla velmi podobná prvním lekcím na Pandách. Jeden z významných rozdílů SQL tabulky je, že může obsahovat více indexů, zadímco pandas DataFrame má jen jeden. Dalším rozdílem je, že `NA` se v jazyce SQL nazývá `NULL` - testuje se na něj IS NULL, podobně jako v Pythonu.\n",
    "\n",
    "* Pokud vám SQL přijde intuitivní a chtěli byste takto pracovat i s Pandas tabulkami, je to možné pomocí knihovny [pandasql](https://github.com/yhat/pandasql/).\n",
    "\n",
    "* A naopak, ve všech příkladech zde jsme používali SQLAlchemy v kombinaci s pandas. To ale vůbec není nutné, můžeme použít `engine.execute(...)` a dostaneme iterátor reprezentující výsledek SQL dotazu. Například...\n"
   ]
  },
  {
   "cell_type": "code",
   "execution_count": 39,
   "metadata": {
    "colab": {
     "base_uri": "https://localhost:8080/"
    },
    "id": "Jbc2kPiQ-tUS",
    "outputId": "e48af681-7779-4d47-afac-7bee8dac8079"
   },
   "outputs": [
    {
     "name": "stdout",
     "output_type": "stream",
     "text": [
      "10001 $ 1971\n",
      "10002 \"Crocodile\" Dundee 1986\n",
      "10003 \"Crocodile\" Dundee II 1988\n",
      "10004 'Til There Was You 1997\n",
      "10005 'Til We Meet Again 1940\n"
     ]
    }
   ],
   "source": [
    "result = engine.execute('SELECT id, title, yr FROM movie LIMIT 5')\n",
    "for row in result:\n",
    "    print(row['id'], row['title'], row['yr'])"
   ]
  }
 ],
 "metadata": {
  "colab": {
   "provenance": []
  },
  "kernelspec": {
   "display_name": "Python 3 (ipykernel)",
   "language": "python",
   "name": "python3"
  },
  "language_info": {
   "codemirror_mode": {
    "name": "ipython",
    "version": 3
   },
   "file_extension": ".py",
   "mimetype": "text/x-python",
   "name": "python",
   "nbconvert_exporter": "python",
   "pygments_lexer": "ipython3",
   "version": "3.8.9"
  },
  "vscode": {
   "interpreter": {
    "hash": "31f2aee4e71d21fbe5cf8b01ff0e069b9275f58929596ceb00d14d90e3e16cd6"
   }
  }
 },
 "nbformat": 4,
 "nbformat_minor": 1
}
