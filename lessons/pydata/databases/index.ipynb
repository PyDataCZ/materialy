{
  "cells": [
    {
      "cell_type": "markdown",
      "metadata": {
        "id": "Xsc_HEMd-tUF"
      },
      "source": [
        "# Databáze a SQL"
      ]
    },
    {
      "cell_type": "markdown",
      "metadata": {
        "id": "b7qmezbS-tUI"
      },
      "source": [
        "**Obsah:**\n",
        "\n",
        "- Úvod do databází a SQL\n",
        "- Jak s SQL databázemi pracovat v Pythonu\n",
        "- SQL 101 a cvičení"
      ]
    },
    {
      "cell_type": "markdown",
      "metadata": {
        "id": "uQLofOI4-tUI"
      },
      "source": [
        "## Úvod do databází"
      ]
    },
    {
      "cell_type": "markdown",
      "metadata": {
        "id": "E5rge1Q3-tUJ"
      },
      "source": [
        "Doteď jsme na kurzu pracovali se **soubory** - odněkud soubor stáhli na svůj počítač, a tam ho zpracovali, a pak třeba zase výsledek někam nahráli. Tento postup ale nestačí, pokud jsou data příliš veliká, s těmito daty pracuje naráz více lidí najednou a zároveň je i aktualizuje. To se řeší tak, že spustíte **databázový systém** (DBMS), ten data u sebe spravuje a vy se na tento systém připojujete přes klienta. DBMS může běžet na stejném počítači jako váš Python - nebo také úplně jinde. \n",
        "\n",
        "Např. e-shop bude pracovat s databází, ve které jsou uloženy informace o prodávaném zboží, rozdělení zboží do kategorií, objednávky, reklamace, registrovaní uživatelé... Takovou databázi můžeme označit za \"transakční\". Vy jako datoví analytici, inženýři apod. se pravděpodobně budete chtít do takovéto databáze připojit a stáhnout si z ní část dat pro svou další práci. Nebo dokonce může být vaším úkolem vytvořit novou \"analytickou\" databázi, která obsahuje data v jiné podobě, např. prodávané zboží bez popisků, bez fotografií, ale zato se statistikami návštěvnosti a prodejnosti."
      ]
    },
    {
      "cell_type": "markdown",
      "metadata": {
        "id": "UF5NJqNs-tUK"
      },
      "source": [
        "### Vlastnosti databází\n",
        "\n",
        "Od databáze (resp. databázového systému) očekáváme několik vlastností:\n",
        "\n",
        "- Že bude uchovávat data :) Data musí zůstat beze ztráty uložena i v případě výpadku napájení, když dojde místo na disku...\n",
        "- Práce s daty \"z různých úhlů\". Např. v e-shopu chceme jednou vypsat zboží podle kategorie, jindy podle stavu skladových zásob, jindy na základě full-textového vyhledávání..\n",
        "- Podpora uživatelů, rolí, oprávnění a kontroly přístupu k datům, security.\n",
        "- Rychlost, výkon, propustnost, latence\n",
        "- Škálovatelnost - jak do velikosti (gigabajty, terabajty, petabajty), tak do počtu prováděných operací za sekundu\n",
        "  \n",
        "Když se nad tím zamyslíte, jedná se o protichůdné požadavky. Tvůrci databázových systémů tak musí zvolit nějaký kompomis. Žádná databáze není \"nejlepší\" a vhodná na všechno. Zrovna co se týče rozdílu mezi \"transakční\" a \"analytickou\" databází, tak často pro tyto oblasti jsou vhodné odlišné systémy a přístupy.\n",
        "\n",
        "Na začátku budeme pro jednoduchost pracovat s databází [SQLite](https://www.sqlite.org/). Ta je poněkud specifická tím, že je uložena v jednom souboru (s příponou `.sqlite` nebo `.db`), není to tedy samostatně běžící server, ke kterému byste se připojovali. O to snadněji se ale s SQLite pracuje. A SQL jazyk, který si zde osvojíte je stejný (nebo minimálně velmi podobný) jako u složitějších databázových systémů jako [MySQL](https://www.mysql.com/) nebo [PostgreSQL](https://www.postgresql.org/). "
      ]
    },
    {
      "cell_type": "markdown",
      "metadata": {
        "id": "1Sp7t-d3-tUL"
      },
      "source": [
        "### SQL\n",
        "\n",
        "SQL je jazyk, kterým komunikujeme s databází. Umí vyjádřit různé operace nad tabulkami - výběr sloupců, řádků, vztahy mezi více tabulkami, agregace hodnot z více řádků... Tedy něco, co jsem v Pythonu \n",
        "\n",
        "Příklad:\n",
        "\n",
        "```\n",
        "SELECT title, year FROM movies;\n",
        "\n",
        "UPDATE directors SET birthdate = \"1950-01-02\" WHERE director_id = 3;\n",
        "```"
      ]
    },
    {
      "cell_type": "markdown",
      "metadata": {
        "id": "4jeObnev-tUM"
      },
      "source": [
        "## Jak s SQL databázemi pracovat v Pythonu"
      ]
    },
    {
      "cell_type": "markdown",
      "metadata": {
        "id": "FidgjzFF-tUM"
      },
      "source": [
        "Každá databáze se používá trochu jinak - liší se název modulu, který je potřeba importovat, mírně se liší způsob předávání dat použitých v SQL dotazech, může se lišit forma dat vrácených ve výsledku... \n",
        "\n",
        "Tento problém řeší knihovna [SQLAlchemy](https://www.sqlalchemy.org/), která poskytuje stejné rozhraní pro všechny širokou třídu databází. Nejprve si ji tedy nainstalujte."
      ]
    },
    {
      "cell_type": "code",
      "execution_count": null,
      "metadata": {
        "id": "E8NphkEH-tUN"
      },
      "outputs": [],
      "source": [
        "# smažte # na následujícím řádku pro instalaci balíčku sqlalchemy\n",
        "# %pip install sqlalchemy"
      ]
    },
    {
      "cell_type": "markdown",
      "metadata": {
        "id": "uzLBzQ-Q-tUO"
      },
      "source": [
        "Knihovnu SQLAlchemy naimportujeme následovně"
      ]
    },
    {
      "cell_type": "code",
      "execution_count": null,
      "metadata": {
        "id": "Ene12NLd-tUP"
      },
      "outputs": [],
      "source": [
        "import sqlalchemy"
      ]
    },
    {
      "cell_type": "markdown",
      "metadata": {
        "id": "3A7LuzgJ-tUP"
      },
      "source": [
        "a jako vždy, importujeme i [Pandas](https://pandas.pydata.org/pandas-docs/stable/reference/index.html):"
      ]
    },
    {
      "cell_type": "code",
      "execution_count": null,
      "metadata": {
        "id": "pwfSJ7SP-tUP"
      },
      "outputs": [],
      "source": [
        "import pandas as pd"
      ]
    },
    {
      "cell_type": "markdown",
      "metadata": {
        "id": "bMBkl1gj-tUP"
      },
      "source": [
        "Pro první ukázku práce s databází použijeme data od Míry Brabence.\n",
        "Jde o databázi typu [SQLite](https://cs.wikipedia.org/wiki/SQLite) - skládá se z jediného souboru, ve kterém jsou všecha data. To znamená, že se nepřipojujeme k žádnému serveru pomocí jména a hesla jako u \"klasických\" databází.\n",
        "Databáze v podobě SQLite souboru má výhodu v tom, že když něco rozbijete, tak ten soubor prostě smažete a uděláte si nový :)\n"
      ]
    },
    {
      "cell_type": "code",
      "execution_count": null,
      "metadata": {
        "id": "mjUWoAr1-tUP"
      },
      "outputs": [],
      "source": [
        "# smažte # na následujícím řádku pro stažení dat\n",
        "# !wget https://github.com/PyDataCZ/pyladies-kurz/raw/main/lessons/pydata/databases/movies.sqlite"
      ]
    },
    {
      "cell_type": "markdown",
      "metadata": {
        "id": "8YjxKs2i-tUQ"
      },
      "source": [
        "### Otevření databáze, průzkum struktury"
      ]
    },
    {
      "cell_type": "code",
      "execution_count": null,
      "metadata": {
        "id": "H5I7YzDx-tUQ"
      },
      "outputs": [],
      "source": [
        "engine = sqlalchemy.create_engine('sqlite:///movies.sqlite')"
      ]
    },
    {
      "cell_type": "markdown",
      "metadata": {
        "id": "Xuhmdn-4-tUQ"
      },
      "source": [
        "Objekt `engine` obsahuje připojení do databáze a skrz něj budeme provádět operace s danou databází.\n",
        "\n",
        "Začneme tím, že se podíváme, jaká je struktura té databáze - jaké tabulky obsahuje a co obsahují ty tabulky. Každá databáze na to má jiné finty, jak toto zjistit (někdy funguje SQL příkaz `SHOW TABLES`, jindy je zase potřeba `SELECT` z metadat), naštěstí SQLAlchemy nám s tím pomůže."
      ]
    },
    {
      "cell_type": "code",
      "execution_count": null,
      "metadata": {
        "colab": {
          "base_uri": "https://localhost:8080/"
        },
        "id": "lSvzogS4-tUQ",
        "outputId": "f49eb7c3-674a-4c7b-c900-0c4437670218"
      },
      "outputs": [],
      "source": [
        "sqlalchemy.inspect(engine).get_table_names()"
      ]
    },
    {
      "cell_type": "markdown",
      "metadata": {
        "id": "CLAL3gaFoSSM"
      },
      "source": [
        "Pro *průzkum* databáze jsem připravil funkci `prozkoumat`."
      ]
    },
    {
      "cell_type": "code",
      "execution_count": null,
      "metadata": {
        "id": "uVU4impn-tUR"
      },
      "outputs": [],
      "source": [
        "def prozkoumat(engine):\n",
        "    inspector = sqlalchemy.inspect(engine)\n",
        "    for schema in inspector.get_schema_names():\n",
        "        print('Schema:', schema)\n",
        "        for table_name in inspector.get_table_names(schema=schema):\n",
        "            print()\n",
        "            print('  Table:', table_name)\n",
        "            print()\n",
        "            for column in inspector.get_columns(table_name, schema=schema):\n",
        "                print('      Column:', column['name'].ljust(12), column['type'])"
      ]
    },
    {
      "cell_type": "code",
      "execution_count": null,
      "metadata": {
        "colab": {
          "base_uri": "https://localhost:8080/"
        },
        "id": "ZzLBz1TP-tUR",
        "outputId": "402f9a5d-0a3e-43e6-f706-74e8ed9bad9b"
      },
      "outputs": [],
      "source": [
        "prozkoumat(engine)"
      ]
    },
    {
      "cell_type": "markdown",
      "metadata": {
        "id": "KvKi3t77on4g"
      },
      "source": [
        "Celou tabulku stáhneme pomocí funkce `pd.read_sql_table`."
      ]
    },
    {
      "cell_type": "code",
      "execution_count": null,
      "metadata": {
        "colab": {
          "base_uri": "https://localhost:8080/",
          "height": 423
        },
        "id": "2Q0biJLMolsJ",
        "outputId": "3e1e4c96-3050-42c2-94c3-16368e1465c5"
      },
      "outputs": [],
      "source": [
        "pd.read_sql_table('actor', engine)"
      ]
    },
    {
      "cell_type": "markdown",
      "metadata": {
        "id": "4zIUmbONqNmi"
      },
      "source": [
        "Reálná databáze ale může obsahovat tak velké, že je celé stáhnout nemůžete nebo nechcete. Stáhnete tedy pouze jejich část určenou pomocí SQL příkazu SELECT (funkce `pd.read_sql_query`). Takže pokud např. chcete zjistit údaje k filmu \"Chasing Amy\"."
      ]
    },
    {
      "cell_type": "code",
      "execution_count": null,
      "metadata": {
        "colab": {
          "base_uri": "https://localhost:8080/",
          "height": 81
        },
        "id": "fLMGcEuLqp7q",
        "outputId": "1139d677-8ba7-42d5-94f7-0c890bd674fc"
      },
      "outputs": [],
      "source": [
        "pd.read_sql_query('SELECT title, yr, budget, gross FROM movie WHERE title = \"Chasing Amy\"', engine)"
      ]
    },
    {
      "cell_type": "markdown",
      "metadata": {
        "id": "HVFXXFWivuUM"
      },
      "source": [
        "## SQL 101\n",
        "\n",
        "Jedna hodina je příliš málo na to, abychom probrali SQL a databáze do hloubky. Soustředíme se tedy na nejčastější případ použití: databázi nespravujete vy, ale nějaký *datový inženýr* z firmy a vy jste dostali práva pro čtení (nikoli pro zápis). Z databáze potřebujete získat data, abyste s nimi dále pracovali.\n",
        "\n",
        "Učite se budeme na příkladech. Budeme však potřeboval ještě několik datových sad."
      ]
    },
    {
      "cell_type": "code",
      "execution_count": null,
      "metadata": {
        "id": "0pJ6MZPZ1KYc"
      },
      "outputs": [],
      "source": [
        "# ostraňte # na začátku následujících řádků pro stažení souboru world.sqlite\n",
        "# !wget https://github.com/PyDataCZ/pyladies-kurz/raw/main/lessons/pydata/databases/world.sqlite"
      ]
    },
    {
      "cell_type": "code",
      "execution_count": null,
      "metadata": {
        "colab": {
          "base_uri": "https://localhost:8080/"
        },
        "id": "MFTLn-YZ1U9X",
        "outputId": "b71ac1ca-c13a-4d55-a682-12c6410d22b3"
      },
      "outputs": [],
      "source": [
        "engine_world = sqlalchemy.create_engine('sqlite:///world.sqlite')\n",
        "\n",
        "prozkoumat(engine_world)"
      ]
    },
    {
      "cell_type": "code",
      "execution_count": null,
      "metadata": {
        "colab": {
          "base_uri": "https://localhost:8080/",
          "height": 143
        },
        "id": "kw0cZXVA1w3w",
        "outputId": "78b43445-a00d-4b66-ba9f-d5e6cc52e35b"
      },
      "outputs": [],
      "source": [
        "pd.read_sql_query('SELECT * FROM world LIMIT 3', engine_world)"
      ]
    },
    {
      "cell_type": "markdown",
      "metadata": {
        "id": "JPX8rS6Q-tUR"
      },
      "source": [
        "### SELECT\n",
        "\n",
        "Upravte následující příklady a zkontrolujte, že jste dostali očekávaný výsledek. Nulté cvičení projdeme společně.\n",
        "\n",
        "**Cvičení 0:** Kód níže získá z databáze počet obyvatel Francie. Upravte jej a zjistěte počet obyvatel Německa (řešení 80716000)."
      ]
    },
    {
      "cell_type": "code",
      "execution_count": null,
      "metadata": {
        "colab": {
          "base_uri": "https://localhost:8080/",
          "height": 81
        },
        "id": "t1Keabp4-tUR",
        "outputId": "05532850-a4f9-4320-8073-38db390c4fd9"
      },
      "outputs": [],
      "source": [
        "sql_statement = \"\"\"\n",
        "SELECT population FROM world\n",
        "  WHERE name = 'France'\n",
        "\"\"\"\n",
        "\n",
        "pd.read_sql_query(sql_statement, engine_world)"
      ]
    },
    {
      "cell_type": "markdown",
      "metadata": {
        "id": "z_Rw8WTs4N-l"
      },
      "source": [
        "**Cvičení 1**: Pomocí operátoru *IN* můžete testovat, jestli sloupec nabývá jedné z několika hodnot. Kód níže získá z databáze tabulku se jménem státu a počtem obyvatel pro Brazílii, Rusko, Indii a Čínu.\n",
        "\n",
        "Upravte jej a získejte počet obyvatel pro skandinávské země ('Sweden', 'Norway', 'Denmark'). Která z těchto tří zemí má nejméně obyvatel? (řešení: Norsko - 5124383)"
      ]
    },
    {
      "cell_type": "code",
      "execution_count": null,
      "metadata": {
        "colab": {
          "base_uri": "https://localhost:8080/",
          "height": 175
        },
        "id": "FPt9d3HX5GB4",
        "outputId": "65b3a690-8008-4b3c-cc72-1b7ac5eb023b"
      },
      "outputs": [],
      "source": [
        "sql_statement = \"\"\"\n",
        "SELECT name, population FROM world\n",
        "  WHERE name IN ('Brazil', 'Russia', 'India', 'China');\n",
        "\"\"\"\n",
        "\n",
        "pd.read_sql_query(sql_statement, engine_world)"
      ]
    },
    {
      "cell_type": "markdown",
      "metadata": {
        "id": "lOtzD8kE59bc"
      },
      "source": [
        "**Cvičení 2:** Které státy nejsou příliš malé, ani příliš velké? Funkce BETWEEN umožňuje zadat rozsah (hraniční hodnoty). Níže uvedený příklad zobrazuje státy o rozloze 200 000-250 000 km². Upravte jej tak, aby zobrazoval jméno státu a jeho plochu pro státy s rozlohou mezi 250 000 a 300 000 km². (řešení: Burkina Faso, Ecuador, Gabon, New Zealand)"
      ]
    },
    {
      "cell_type": "code",
      "execution_count": null,
      "metadata": {
        "colab": {
          "base_uri": "https://localhost:8080/",
          "height": 300
        },
        "id": "TwpLDZS9577y",
        "outputId": "e51aa576-99a0-471a-ac75-9fd412ec9e5a"
      },
      "outputs": [],
      "source": [
        "sql_statement = \"\"\"\n",
        "SELECT name, area FROM world\n",
        "  WHERE area BETWEEN 200000 AND 250000\n",
        "\"\"\"\n",
        "\n",
        "pd.read_sql_query(sql_statement, engine_world)"
      ]
    },
    {
      "cell_type": "markdown",
      "metadata": {
        "id": "ZzR4HDY47ruX"
      },
      "source": [
        "**Cvičení 3**: K nalezení států začínajících na písmeno B můžete použít `WHERE name LIKE 'B%'` (`%` nahradí cokoli).\n",
        "\n",
        "Kolik je v tabulce států začínajících na Y? (řešení: je právě jeden)"
      ]
    },
    {
      "cell_type": "code",
      "execution_count": null,
      "metadata": {
        "colab": {
          "base_uri": "https://localhost:8080/",
          "height": 143
        },
        "id": "BdX72JEx9pyU",
        "outputId": "f4344b3e-25d4-4258-9913-7c2703950f4a"
      },
      "outputs": [],
      "source": [
        "sql_statement = \"\"\"\n",
        "SELECT name FROM world\n",
        "  WHERE name LIKE 'F%'\n",
        "\"\"\"\n",
        "\n",
        "pd.read_sql_query(sql_statement, engine_world)"
      ]
    },
    {
      "cell_type": "markdown",
      "metadata": {
        "id": "9x8h0Ryr-hJ0"
      },
      "source": [
        "**Cvičení 4**: Kolik je států, jejichž jméno končí písmenem y? (řešení: osm)"
      ]
    },
    {
      "cell_type": "code",
      "execution_count": null,
      "metadata": {
        "colab": {
          "base_uri": "https://localhost:8080/",
          "height": 143
        },
        "id": "z5MriToI-uUf",
        "outputId": "0a8daac9-0ec2-4956-c1e6-05bd72e7e89a"
      },
      "outputs": [],
      "source": [
        "sql_statement = \"\"\"\n",
        "SELECT name FROM world\n",
        "  WHERE name LIKE 'F%'\n",
        "\"\"\"\n",
        "\n",
        "pd.read_sql_query(sql_statement, engine_world)"
      ]
    },
    {
      "cell_type": "markdown",
      "metadata": {
        "id": "NKodp_ec_Ovd"
      },
      "source": [
        "**Cvičení 5**: Kolik států má ve jméně písmeno x? Kolik jich končí -land? A kolik jich začíná písmenem C a končí -ia? (řešení: 2, 8, 3)"
      ]
    },
    {
      "cell_type": "code",
      "execution_count": null,
      "metadata": {
        "colab": {
          "base_uri": "https://localhost:8080/",
          "height": 143
        },
        "id": "GqX_MvJd_jZ2",
        "outputId": "46efe97e-72a6-4c80-894b-000aec61ab7d"
      },
      "outputs": [],
      "source": [
        "sql_statement = \"\"\"\n",
        "SELECT name FROM world\n",
        "  WHERE name LIKE 'F%'\n",
        "\"\"\"\n",
        "\n",
        "pd.read_sql_query(sql_statement, engine_world)"
      ]
    },
    {
      "cell_type": "markdown",
      "metadata": {
        "id": "XoMcMg_dAreT"
      },
      "source": [
        "**Cvičení 6**: Indie a Angola mají jako druhý znak písmeno n. Podtržítko můžete použít jako zástupný znak pro právě jeden znak.\n",
        "\n",
        "Kolik států má jako druhý znak písmeno t? (řešení: dva)"
      ]
    },
    {
      "cell_type": "code",
      "execution_count": null,
      "metadata": {
        "colab": {
          "base_uri": "https://localhost:8080/",
          "height": 300
        },
        "id": "1CypTIphA2dA",
        "outputId": "00a0e5c6-f58f-4ab5-f78a-c3a2590bbfdb"
      },
      "outputs": [],
      "source": [
        "sql_statement = \"\"\"\n",
        "SELECT name FROM world\n",
        " WHERE name LIKE '_n%'\n",
        "\"\"\"\n",
        "\n",
        "pd.read_sql_query(sql_statement, engine_world)"
      ]
    },
    {
      "cell_type": "markdown",
      "metadata": {
        "id": "Qd7SL4YPBKcC"
      },
      "source": [
        "**Cvičení 7**: Kolik názvů států má právě 4 písmena? (řešení: 10)"
      ]
    },
    {
      "cell_type": "code",
      "execution_count": null,
      "metadata": {
        "colab": {
          "base_uri": "https://localhost:8080/",
          "height": 49
        },
        "id": "W5RZDTaxBJT4",
        "outputId": "0f7e03fe-8046-4ac4-f445-64cd05ff877a"
      },
      "outputs": [],
      "source": [
        "sql_statement = \"\"\"\n",
        "SELECT name FROM world\n",
        " WHERE name LIKE '___'\n",
        "\"\"\"\n",
        "\n",
        "pd.read_sql_query(sql_statement, engine_world)"
      ]
    },
    {
      "cell_type": "markdown",
      "metadata": {
        "id": "TZHXZ4kqBuK-"
      },
      "source": [
        "**Cvičení 8**: Hlavní město Luxembourg je Luxembourg. Kolik je států, kde se hlavní město jmenuje stejně jako stát sám? (řešení: čtyři) "
      ]
    },
    {
      "cell_type": "code",
      "execution_count": null,
      "metadata": {
        "colab": {
          "base_uri": "https://localhost:8080/",
          "height": 423
        },
        "id": "9ALY12snBtbg",
        "outputId": "b27c2b4e-1a4e-435e-e216-7cb82be4aa26"
      },
      "outputs": [],
      "source": [
        "sql_statement = \"\"\"\n",
        "SELECT name, capital, continent FROM world\n",
        "\"\"\"\n",
        "\n",
        "pd.read_sql_query(sql_statement, engine_world)"
      ]
    },
    {
      "cell_type": "markdown",
      "metadata": {
        "id": "73Zs9g4RC3fS"
      },
      "source": [
        "### SELECT uvnitř SELECTu, ORDER\n",
        "\n",
        "Pro komplexní dotazy potřebujeme často porovnat hodnotu s hodnotou, na kterou samotnou musíme z databáze získat. K tomu slouží možnost vnořit jeden SELECT do druhého.\n",
        "\n",
        "**Cvičení 0**: Které státy mají více obyvatel než Rusko? To už umíme - na dva dotazy... (povšimněte si použití ORDER - seřadí výsledek podle jednoho či více sloupců)"
      ]
    },
    {
      "cell_type": "code",
      "execution_count": null,
      "metadata": {
        "colab": {
          "base_uri": "https://localhost:8080/",
          "height": 81
        },
        "id": "Zj6cM5_zEK2t",
        "outputId": "60370794-2b68-4772-99a6-87eb0b4d4d26"
      },
      "outputs": [],
      "source": [
        "sql_statement = \"\"\"\n",
        "SELECT name, population FROM world\n",
        "      WHERE name='Russia'\n",
        "\"\"\"\n",
        "\n",
        "pd.read_sql_query(sql_statement, engine_world)"
      ]
    },
    {
      "cell_type": "code",
      "execution_count": null,
      "metadata": {
        "colab": {
          "base_uri": "https://localhost:8080/",
          "height": 300
        },
        "id": "Bf2pzfX4EULT",
        "outputId": "01459e8a-2ff5-48e0-8b8b-cd8750a6136d"
      },
      "outputs": [],
      "source": [
        "sql_statement = \"\"\"\n",
        "SELECT name FROM world\n",
        "  WHERE population > 146000000\n",
        "  ORDER by name\n",
        "\"\"\"\n",
        "\n",
        "pd.read_sql_query(sql_statement, engine_world)"
      ]
    },
    {
      "cell_type": "markdown",
      "metadata": {
        "id": "Lw3FLYhJEe0s"
      },
      "source": [
        "Ale s vnořeným SELECT nám stačí dotaz jeden:"
      ]
    },
    {
      "cell_type": "code",
      "execution_count": null,
      "metadata": {
        "colab": {
          "base_uri": "https://localhost:8080/",
          "height": 300
        },
        "id": "YQcFNxucD0Bu",
        "outputId": "5240e79b-736b-44b3-df21-74472a764848"
      },
      "outputs": [],
      "source": [
        "sql_statement = \"\"\"\n",
        "SELECT name FROM world\n",
        "  WHERE population >\n",
        "     (SELECT population FROM world\n",
        "      WHERE name='Russia')\n",
        "  ORDER BY name\n",
        "\"\"\"\n",
        "\n",
        "pd.read_sql_query(sql_statement, engine_world)"
      ]
    },
    {
      "cell_type": "markdown",
      "metadata": {
        "id": "1WLDmpn_FA2z"
      },
      "source": [
        "**Cvičení 1**: Vypište **evropské** země, které mají HDP na osobu vyšší než Dánsko. (řešení: je jich šest)"
      ]
    },
    {
      "cell_type": "code",
      "execution_count": null,
      "metadata": {
        "colab": {
          "base_uri": "https://localhost:8080/",
          "height": 206
        },
        "id": "OMOeiVYDF7mQ",
        "outputId": "b0ec454d-9a89-419f-b3ce-d125e67821b0"
      },
      "outputs": [],
      "source": [
        "sql_statement = \"\"\"\n",
        "SELECT name, gdp/population FROM world\n",
        "  WHERE continent = 'Asia' AND population >\n",
        "     (SELECT population FROM world\n",
        "      WHERE name='Russia')\n",
        "\"\"\"\n",
        "\n",
        "pd.read_sql_query(sql_statement, engine_world)"
      ]
    },
    {
      "cell_type": "markdown",
      "metadata": {
        "id": "VyUjCazFIoHC"
      },
      "source": [
        "Můžeme použít MAX, MIN, SUM, AVG, COUNT pro maximum, minimum, součet, průměr a počet hodnot. Zemi s nejvyšším počtem obyvatel tedy nalezneme následovně."
      ]
    },
    {
      "cell_type": "code",
      "execution_count": null,
      "metadata": {
        "colab": {
          "base_uri": "https://localhost:8080/",
          "height": 81
        },
        "id": "mHf8x5HGJCAD",
        "outputId": "be175be2-bfe6-46a7-d526-3e07d40065bb"
      },
      "outputs": [],
      "source": [
        "sql_statement = \"\"\"\n",
        "SELECT name, population\n",
        "  FROM world\n",
        "  WHERE population = (SELECT MAX(population) FROM world)\n",
        "\"\"\"\n",
        "\n",
        "pd.read_sql_query(sql_statement, engine_world)"
      ]
    },
    {
      "cell_type": "markdown",
      "metadata": {
        "id": "nqVlZD76Qap0"
      },
      "source": [
        "**Cvičení 2**: Nalezněte státy, které mají HDP vyšší než všechny státy v Evropě. (řešení: jsou tři)"
      ]
    },
    {
      "cell_type": "code",
      "execution_count": null,
      "metadata": {
        "colab": {
          "base_uri": "https://localhost:8080/",
          "height": 112
        },
        "id": "YdaHptesQZo1",
        "outputId": "78eade0b-d80b-4698-8f69-c0a4c56f02f7"
      },
      "outputs": [],
      "source": [
        "sql_statement = \"\"\"\n",
        "SELECT name, gdp FROM world\n",
        "  WHERE gdp >\n",
        "     (SELECT gdp FROM world\n",
        "      WHERE name='Japan')\n",
        "\"\"\"\n",
        "\n",
        "pd.read_sql_query(sql_statement, engine_world)"
      ]
    },
    {
      "cell_type": "markdown",
      "metadata": {
        "id": "yRQlg8IxR5G4"
      },
      "source": [
        "### GROUP BY a HAVING\n",
        "\n",
        "Pokud chceme spočítat počet obyvatel Asie, můžeme použít `SUM` a `WHERE` z minulého oddílu."
      ]
    },
    {
      "cell_type": "code",
      "execution_count": null,
      "metadata": {
        "colab": {
          "base_uri": "https://localhost:8080/",
          "height": 81
        },
        "id": "B6fMub1CXoGZ",
        "outputId": "f22756d7-6878-42cd-8bed-62c3fd0b2f9e"
      },
      "outputs": [],
      "source": [
        "sql_statement = \"\"\"\n",
        "SELECT continent, SUM(population)\n",
        "  FROM world\n",
        "  WHERE continent = \"Asia\"\n",
        "\"\"\"\n",
        "\n",
        "pd.read_sql_query(sql_statement, engine_world)"
      ]
    },
    {
      "cell_type": "markdown",
      "metadata": {
        "id": "HswaetI-Yh4P"
      },
      "source": [
        "Přehled všech kontinentů můžeme dostat pomocí funkce `DISTINCT` (v Pythonu existuje podobné `unique`)."
      ]
    },
    {
      "cell_type": "code",
      "execution_count": null,
      "metadata": {
        "colab": {
          "base_uri": "https://localhost:8080/",
          "height": 300
        },
        "id": "wvw2ksV8Yf2U",
        "outputId": "1452a188-4efd-4ac0-8ca4-3b4622195bba"
      },
      "outputs": [],
      "source": [
        "sql_statement = \"\"\"\n",
        "SELECT DISTINCT(continent)\n",
        "  FROM world\n",
        "\"\"\"\n",
        "\n",
        "pd.read_sql_query(sql_statement, engine_world)"
      ]
    },
    {
      "cell_type": "markdown",
      "metadata": {
        "id": "JEY_6UV9ZM2c"
      },
      "source": [
        "Jak to ale udělat, abychom dostali počet obyvatel každého kontinentu a nemuseli to dělat naosmkrát? Řešení je stejně jako v Pandas použití `GROUP BY` i s podobnout syntaxí."
      ]
    },
    {
      "cell_type": "code",
      "execution_count": null,
      "metadata": {
        "colab": {
          "base_uri": "https://localhost:8080/",
          "height": 300
        },
        "id": "R6TGz3niZfD9",
        "outputId": "05c7268e-5a81-433a-a950-9376668da7aa"
      },
      "outputs": [],
      "source": [
        "sql_statement = \"\"\"\n",
        "SELECT continent, SUM(population)\n",
        "  FROM world\n",
        "  GROUP BY continent\n",
        "\"\"\"\n",
        "\n",
        "pd.read_sql_query(sql_statement, engine_world)"
      ]
    },
    {
      "cell_type": "markdown",
      "metadata": {
        "id": "y7eXNkquZssS"
      },
      "source": [
        "Pokud bychom chtěli vyloučit malé kontinenty jako Oceania a Caribbean, filtrování výsledků po `GROUP BY` se provádí pomocí `HAVING`, tedy například..."
      ]
    },
    {
      "cell_type": "code",
      "execution_count": null,
      "metadata": {
        "colab": {
          "base_uri": "https://localhost:8080/",
          "height": 237
        },
        "id": "99FO-vvLaF9b",
        "outputId": "9ba9d530-0742-4ff9-e2f1-2f0226c8c0b3"
      },
      "outputs": [],
      "source": [
        "sql_statement = \"\"\"\n",
        "SELECT continent, SUM(population)\n",
        "  FROM world\n",
        "  GROUP BY continent\n",
        "  HAVING SUM(population) > 100000000\n",
        "\"\"\"\n",
        "\n",
        "pd.read_sql_query(sql_statement, engine_world)"
      ]
    },
    {
      "cell_type": "markdown",
      "metadata": {
        "id": "nTFMvRFpaVPW"
      },
      "source": [
        "**Cvičení 1:** Kolik je pro každý kontinent států v databázi? Použijte funkci `COUNT` (řešení: např. pro Evropu 44)"
      ]
    },
    {
      "cell_type": "code",
      "execution_count": null,
      "metadata": {
        "colab": {
          "base_uri": "https://localhost:8080/",
          "height": 300
        },
        "id": "DugLTajJaok0",
        "outputId": "fe5b1146-47f2-49a9-d028-3ec8a2432f50"
      },
      "outputs": [],
      "source": [
        "sql_statement = \"\"\"\n",
        "SELECT continent, COUNT(name)\n",
        "  FROM world\n",
        "  WHERE population > 10000000\n",
        "  GROUP BY continent\n",
        "\"\"\"\n",
        "\n",
        "pd.read_sql_query(sql_statement, engine_world)"
      ]
    },
    {
      "cell_type": "markdown",
      "metadata": {
        "id": "n86H7VCwby0Y"
      },
      "source": [
        "**Cvičení 2**: Některé státy jsou velmi malé. Zkuste modifikovat kód na Cvičení 1 tak, aby počítal jen státy, které mají alespoň 10 milionů obyvatel. Použije je tu WHERE nebo HAVING, a proč? (řešení: např. pro Evropu 14)"
      ]
    },
    {
      "cell_type": "code",
      "execution_count": null,
      "metadata": {
        "colab": {
          "base_uri": "https://localhost:8080/",
          "height": 300
        },
        "id": "q9JS49NZbuN6",
        "outputId": "fe160bba-d066-4d4b-9e5d-71b888ce7079"
      },
      "outputs": [],
      "source": [
        "sql_statement = \"\"\"\n",
        "SELECT continent, SUM(population)\n",
        "  FROM world\n",
        "  GROUP BY continent\n",
        "\"\"\"\n",
        "\n",
        "pd.read_sql_query(sql_statement, engine_world)"
      ]
    },
    {
      "cell_type": "markdown",
      "metadata": {
        "id": "G2iWFUTCcegN"
      },
      "source": [
        "## JOIN\n",
        "\n",
        "Spojování tabulek je velmi podobné jako v Pandas. Vraťme se nyní k databázi `movie`. Obsahuje tři tabulky, které jsou propojené následovně...\n",
        "\n",
        "![](https://sqlzoo.net/w/images/1/10/Movie-er.png)\n",
        "\n",
        "**Cvičení 0**: Vypište všechny herce, kteří hráli ve filmu Vetřelec (Alien)."
      ]
    },
    {
      "cell_type": "code",
      "execution_count": null,
      "metadata": {
        "colab": {
          "base_uri": "https://localhost:8080/",
          "height": 269
        },
        "id": "LP7-UylAdxcv",
        "outputId": "a6c35c9f-9211-4ee9-822c-39e8fd0909f2"
      },
      "outputs": [],
      "source": [
        "sql_statement = \"\"\"\n",
        "SELECT actor.name\n",
        "  FROM movie\n",
        "  JOIN casting ON movie.id = casting.movieid\n",
        "  JOIN actor ON actor.id = casting.actorid\n",
        "  WHERE title = 'Alien'\n",
        "\"\"\"\n",
        "\n",
        "pd.read_sql_query(sql_statement, engine)"
      ]
    },
    {
      "cell_type": "markdown",
      "metadata": {
        "id": "sOn9XEOAgsOw"
      },
      "source": [
        "**Cvičení 1**: Vypište všechny filmy, v kterých hrála 'Hilary Swank'. (řešení: je jich 16)"
      ]
    },
    {
      "cell_type": "code",
      "execution_count": null,
      "metadata": {
        "colab": {
          "base_uri": "https://localhost:8080/",
          "height": 269
        },
        "id": "NEVKGZgPhYZv",
        "outputId": "3371bf4a-baf8-4695-b91b-5d291bb54398"
      },
      "outputs": [],
      "source": [
        "sql_statement = \"\"\"\n",
        "SELECT actor.name\n",
        "  FROM movie\n",
        "  JOIN casting ON movie.id = casting.movieid\n",
        "  JOIN actor ON actor.id = casting.actorid\n",
        "  WHERE title = 'Alien'\n",
        "\"\"\"\n",
        "\n",
        "pd.read_sql_query(sql_statement, engine)"
      ]
    },
    {
      "cell_type": "markdown",
      "metadata": {
        "id": "WxeeYnGmjPSR"
      },
      "source": [
        "**Cvičení 2**: Vypište všechny filmy, v kterých hrál 'Brad Pitt', ale ne v hlavních dvou rolích (`ord` v casting listu je větší než 2). (řešení: je jich 12)"
      ]
    },
    {
      "cell_type": "code",
      "execution_count": null,
      "metadata": {
        "colab": {
          "base_uri": "https://localhost:8080/",
          "height": 269
        },
        "id": "QujMB7RLjlPc",
        "outputId": "1e4a27f4-9c7d-42dd-926f-f7c96b34eaf9"
      },
      "outputs": [],
      "source": [
        "sql_statement = \"\"\"\n",
        "SELECT actor.name\n",
        "  FROM movie\n",
        "  JOIN casting ON movie.id = casting.movieid\n",
        "  JOIN actor ON actor.id = casting.actorid\n",
        "  WHERE title = 'Alien'\n",
        "\"\"\"\n",
        "\n",
        "pd.read_sql_query(sql_statement, engine)"
      ]
    },
    {
      "cell_type": "markdown",
      "metadata": {
        "id": "9k1G9iANlOSn"
      },
      "source": [
        "**Cvičení 3**: Vypište všechny název filmů, které byly uvedeny do kin v roce 1962, společně s hlavní hvězdou (`ord` v castingu je rovno jedné). (řešení: je jich pět, hlavní roli v Jak zabít moudivláčka hrál Gregory Peck)"
      ]
    },
    {
      "cell_type": "code",
      "execution_count": null,
      "metadata": {
        "colab": {
          "base_uri": "https://localhost:8080/",
          "height": 269
        },
        "id": "5z9BeDyrlEG7",
        "outputId": "adb3d0fa-0cf1-4ab7-f025-b0bc4337df38"
      },
      "outputs": [],
      "source": [
        "sql_statement = \"\"\"\n",
        "SELECT actor.name\n",
        "  FROM movie\n",
        "  JOIN casting ON movie.id = casting.movieid\n",
        "  JOIN actor ON actor.id = casting.actorid\n",
        "  WHERE title = 'Alien'\n",
        "\"\"\"\n",
        "\n",
        "pd.read_sql_query(sql_statement, engine)"
      ]
    },
    {
      "cell_type": "markdown",
      "metadata": {
        "id": "uhMrj5qQmQjc"
      },
      "source": [
        "## Závěr"
      ]
    },
    {
      "cell_type": "markdown",
      "metadata": {
        "id": "VPc8u1y7mTx9"
      },
      "source": [
        "* Pokud se chcete dozvědět o SQL více, velmi doporučuji stránku https://sqlzoo.net/, z které jsem převzal databáze a většinu cvičení.\n",
        "\n",
        "* Většina databázových serverů není z bezpečnostních důvodů veřejně dostupných a přistupujete k nim skrz nějakou API službu (o těch si budeme vykládat příště). Pokud byste si ale chtěli vyzkoušet, jaké to je připojit se ke vzdálenému serveru, jeden z mála dostupných je [Ensembl](https://plants.ensembl.org/info/data/mysql.html) poskytující genomická data.\n",
        "\n",
        "* Pokud vám SQL přijde intuitivní a chtěli byste takto pracovat i s Pandas tabulkami, je to možné pomocí knihovny [pandasql](https://github.com/yhat/pandasql/).\n",
        "\n",
        "* A naopak, ve všech příkladech zde jsme používali SQLAlchemy v kombinaci s pandas. To ale vůbec není nutné, můžeme použít `engine.execute(...)` a dostaneme iterátor reprezentující výsledek SQL dotazu. Například...\n"
      ]
    },
    {
      "cell_type": "code",
      "execution_count": null,
      "metadata": {
        "colab": {
          "base_uri": "https://localhost:8080/"
        },
        "id": "Jbc2kPiQ-tUS",
        "outputId": "e48af681-7779-4d47-afac-7bee8dac8079"
      },
      "outputs": [],
      "source": [
        "result = engine.execute('SELECT id, title, yr FROM movie LIMIT 5')\n",
        "for row in result:\n",
        "    print(row['id'], row['title'], row['yr'])"
      ]
    }
  ],
  "metadata": {
    "colab": {
      "provenance": []
    },
    "kernelspec": {
      "display_name": "Python 3.8.10 64-bit",
      "language": "python",
      "name": "python3"
    },
    "language_info": {
      "codemirror_mode": {
        "name": "ipython",
        "version": 3
      },
      "file_extension": ".py",
      "mimetype": "text/x-python",
      "name": "python",
      "nbconvert_exporter": "python",
      "pygments_lexer": "ipython3",
      "version": "3.9.6"
    },
    "vscode": {
      "interpreter": {
        "hash": "31f2aee4e71d21fbe5cf8b01ff0e069b9275f58929596ceb00d14d90e3e16cd6"
      }
    }
  },
  "nbformat": 4,
  "nbformat_minor": 0
}
